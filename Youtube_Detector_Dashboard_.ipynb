{
  "nbformat": 4,
  "nbformat_minor": 0,
  "metadata": {
    "colab": {
      "provenance": [],
      "authorship_tag": "ABX9TyN/FwowEIYNmsd3ExOkC/T4",
      "include_colab_link": true
    },
    "kernelspec": {
      "name": "python3",
      "display_name": "Python 3"
    },
    "language_info": {
      "name": "python"
    }
  },
  "cells": [
    {
      "cell_type": "markdown",
      "metadata": {
        "id": "view-in-github",
        "colab_type": "text"
      },
      "source": [
        "<a href=\"https://colab.research.google.com/github/orodriguezq/orodriguezq-Senales_Y_Sistemas/blob/main/Youtube_Detector_Dashboard_.ipynb\" target=\"_parent\"><img src=\"https://colab.research.google.com/assets/colab-badge.svg\" alt=\"Open In Colab\"/></a>"
      ]
    },
    {
      "cell_type": "markdown",
      "source": [
        "🔧 1) Instalar dependencias"
      ],
      "metadata": {
        "id": "nzv1DhrFA6-U"
      }
    },
    {
      "cell_type": "code",
      "source": [
        "!pip install -q streamlit yt-dlp pydub joblib scikit-learn matplotlib requests ffmpeg\n",
        "!apt update && apt install -y ffmpeg\n",
        "!ffmpeg -version\n"
      ],
      "metadata": {
        "colab": {
          "base_uri": "https://localhost:8080/"
        },
        "id": "79vZNNuKd53p",
        "outputId": "666ecacd-d44c-4399-abfc-0169053b91a8"
      },
      "execution_count": 208,
      "outputs": [
        {
          "output_type": "stream",
          "name": "stdout",
          "text": [
            "\u001b[33m\r0% [Working]\u001b[0m\r            \rHit:1 https://cloud.r-project.org/bin/linux/ubuntu jammy-cran40/ InRelease\n",
            "Hit:2 https://developer.download.nvidia.com/compute/cuda/repos/ubuntu2204/x86_64  InRelease\n",
            "Hit:3 http://security.ubuntu.com/ubuntu jammy-security InRelease\n",
            "Hit:4 http://archive.ubuntu.com/ubuntu jammy InRelease\n",
            "Hit:5 http://archive.ubuntu.com/ubuntu jammy-updates InRelease\n",
            "Hit:6 http://archive.ubuntu.com/ubuntu jammy-backports InRelease\n",
            "Hit:7 https://ppa.launchpadcontent.net/deadsnakes/ppa/ubuntu jammy InRelease\n",
            "Hit:8 https://r2u.stat.illinois.edu/ubuntu jammy InRelease\n",
            "Hit:9 https://ppa.launchpadcontent.net/graphics-drivers/ppa/ubuntu jammy InRelease\n",
            "Hit:10 https://ppa.launchpadcontent.net/ubuntugis/ppa/ubuntu jammy InRelease\n",
            "Reading package lists... Done\n",
            "Building dependency tree... Done\n",
            "Reading state information... Done\n",
            "35 packages can be upgraded. Run 'apt list --upgradable' to see them.\n",
            "\u001b[1;33mW: \u001b[0mSkipping acquire of configured file 'main/source/Sources' as repository 'https://r2u.stat.illinois.edu/ubuntu jammy InRelease' does not seem to provide it (sources.list entry misspelt?)\u001b[0m\n",
            "Reading package lists... Done\n",
            "Building dependency tree... Done\n",
            "Reading state information... Done\n",
            "ffmpeg is already the newest version (7:4.4.2-0ubuntu0.22.04.1).\n",
            "0 upgraded, 0 newly installed, 0 to remove and 35 not upgraded.\n",
            "ffmpeg version 4.4.2-0ubuntu0.22.04.1 Copyright (c) 2000-2021 the FFmpeg developers\n",
            "built with gcc 11 (Ubuntu 11.2.0-19ubuntu1)\n",
            "configuration: --prefix=/usr --extra-version=0ubuntu0.22.04.1 --toolchain=hardened --libdir=/usr/lib/x86_64-linux-gnu --incdir=/usr/include/x86_64-linux-gnu --arch=amd64 --enable-gpl --disable-stripping --enable-gnutls --enable-ladspa --enable-libaom --enable-libass --enable-libbluray --enable-libbs2b --enable-libcaca --enable-libcdio --enable-libcodec2 --enable-libdav1d --enable-libflite --enable-libfontconfig --enable-libfreetype --enable-libfribidi --enable-libgme --enable-libgsm --enable-libjack --enable-libmp3lame --enable-libmysofa --enable-libopenjpeg --enable-libopenmpt --enable-libopus --enable-libpulse --enable-librabbitmq --enable-librubberband --enable-libshine --enable-libsnappy --enable-libsoxr --enable-libspeex --enable-libsrt --enable-libssh --enable-libtheora --enable-libtwolame --enable-libvidstab --enable-libvorbis --enable-libvpx --enable-libwebp --enable-libx265 --enable-libxml2 --enable-libxvid --enable-libzimg --enable-libzmq --enable-libzvbi --enable-lv2 --enable-omx --enable-openal --enable-opencl --enable-opengl --enable-sdl2 --enable-pocketsphinx --enable-librsvg --enable-libmfx --enable-libdc1394 --enable-libdrm --enable-libiec61883 --enable-chromaprint --enable-frei0r --enable-libx264 --enable-shared\n",
            "libavutil      56. 70.100 / 56. 70.100\n",
            "libavcodec     58.134.100 / 58.134.100\n",
            "libavformat    58. 76.100 / 58. 76.100\n",
            "libavdevice    58. 13.100 / 58. 13.100\n",
            "libavfilter     7.110.100 /  7.110.100\n",
            "libswscale      5.  9.100 /  5.  9.100\n",
            "libswresample   3.  9.100 /  3.  9.100\n",
            "libpostproc    55.  9.100 / 55.  9.100\n"
          ]
        }
      ]
    },
    {
      "cell_type": "markdown",
      "source": [
        "2) (Opcional) Limpia antiguos directorios"
      ],
      "metadata": {
        "id": "uV1II82Id6uI"
      }
    },
    {
      "cell_type": "code",
      "source": [
        "!rm -rf pages"
      ],
      "metadata": {
        "id": "LUkqiu0Wd9il"
      },
      "execution_count": 209,
      "outputs": []
    },
    {
      "cell_type": "markdown",
      "source": [
        "3) 0_👋_Hello.py completo"
      ],
      "metadata": {
        "id": "A64PNBEHd_MD"
      }
    },
    {
      "cell_type": "code",
      "source": [
        "%%bash\n",
        "cat > app.py << 'EOF'\n",
        "import streamlit as st\n",
        "import numpy as np\n",
        "import matplotlib.pyplot as plt\n",
        "import joblib\n",
        "import io\n",
        "import os\n",
        "import re\n",
        "import traceback\n",
        "from yt_dlp import YoutubeDL\n",
        "from pydub import AudioSegment\n",
        "from sklearn.preprocessing import MinMaxScaler\n",
        "\n",
        "# --- Configuración de la app ---\n",
        "st.set_page_config(page_title=\"Detección de Género Musical\", page_icon=\"🎵\")\n",
        "st.markdown(\"# Detección de Género Musical 🎵\")\n",
        "st.sidebar.header(\"Enlace de YouTube o ID (11 caracteres)\")\n",
        "\n",
        "# --- Carga del modelo ---\n",
        "MODEL_FILE = \"knn_genre_detector.pkl\"\n",
        "if not os.path.exists(MODEL_FILE):\n",
        "    st.error(f\"❌ Modelo no encontrado: {MODEL_FILE}\")\n",
        "    st.stop()\n",
        "\n",
        "@st.cache_data\n",
        "def load_model():\n",
        "    return joblib.load(MODEL_FILE)\n",
        "\n",
        "loaded = load_model()\n",
        "if isinstance(loaded, dict):\n",
        "    model = next((v for v in loaded.values() if hasattr(v, \"predict\")), None)\n",
        "    if model is None:\n",
        "        st.error(\"No se encontró un estimador en el pickle.\")\n",
        "        st.stop()\n",
        "else:\n",
        "    model = loaded\n",
        "\n",
        "# --- Descargar audio completo ---\n",
        "@st.cache_data\n",
        "def download_full_audio(vid: str) -> AudioSegment:\n",
        "    # limpia previos\n",
        "    for f in os.listdir():\n",
        "        if f.startswith(\"yt_audio.\"):\n",
        "            try: os.remove(f)\n",
        "            except: pass\n",
        "    opts = {'format':'bestaudio/best','outtmpl':'yt_audio.%(ext)s','quiet':True}\n",
        "    url = f\"https://www.youtube.com/watch?v={vid}\"\n",
        "    with YoutubeDL(opts) as ydl:\n",
        "        info = ydl.extract_info(url, download=True)\n",
        "        ext = info.get('ext','m4a')\n",
        "        fname = f\"yt_audio.{ext}\"\n",
        "    audio = AudioSegment.from_file(fname)\n",
        "    try: os.remove(fname)\n",
        "    except: pass\n",
        "    return audio\n",
        "\n",
        "# --- Interfaz de usuario ---\n",
        "raw = st.sidebar.text_input(\"Pega URL o ID de YouTube\", \"\").strip()\n",
        "if raw:\n",
        "    m = re.search(r\"([A-Za-z0-9_-]{11})\", raw)\n",
        "    if not m:\n",
        "        st.error(\"❌ ID inválido. Pega URL o ID de 11 caracteres.\")\n",
        "        st.stop()\n",
        "    vid = m.group(1)\n",
        "\n",
        "    try:\n",
        "        full = download_full_audio(vid)\n",
        "        total_s = int(full.duration_seconds)\n",
        "        seg_len = min(15, total_s)\n",
        "        start = max((total_s - seg_len)//2, 0)\n",
        "        seg = full[start*1000:(start+seg_len)*1000]\n",
        "\n",
        "        # Reproducir segmento\n",
        "        buf = io.BytesIO()\n",
        "        seg.export(buf, format=\"wav\"); buf.seek(0)\n",
        "        st.subheader(f\"Audio segmento: {start}s → {start+seg_len}s\")\n",
        "        st.audio(buf.getvalue(), format=\"audio/wav\")\n",
        "\n",
        "        # Convertir a numpy\n",
        "        fs = seg.frame_rate\n",
        "        arr = np.array(seg.get_array_of_samples())\n",
        "        x = arr.reshape(-1,2) if seg.channels==2 else np.stack([arr,arr],axis=-1)\n",
        "\n",
        "        # 1) Dominio tiempo\n",
        "        fig, ax = plt.subplots()\n",
        "        t = np.arange(x.shape[0]) / fs\n",
        "        ax.plot(t, x.mean(axis=1))\n",
        "        ax.set(xlabel=\"t [s]\", ylabel=\"x(t)\")\n",
        "        st.pyplot(fig)\n",
        "\n",
        "        # 2) Dominio frecuencia\n",
        "        vf = np.fft.rfftfreq(x.shape[0],1/fs)\n",
        "        Xw = np.fft.rfft(x,axis=0).mean(axis=-1)\n",
        "        fig, ax = plt.subplots()\n",
        "        ax.plot(vf, np.abs(Xw))\n",
        "        ax.set(xlabel=\"f [Hz]\", ylabel=\"|X(f)|\")\n",
        "        st.pyplot(fig)\n",
        "\n",
        "        # 3) Normalizado\n",
        "        scaler = MinMaxScaler()\n",
        "        Xn = scaler.fit_transform(np.abs(Xw).reshape(-1,1)).flatten()\n",
        "        fig, ax = plt.subplots()\n",
        "        ax.plot(vf, Xn)\n",
        "        ax.set(xlabel=\"f [Hz]\", ylabel=\"|X(f)| normalizado\")\n",
        "        st.pyplot(fig)\n",
        "\n",
        "        # 4) Espectro en dB\n",
        "        fig, ax = plt.subplots()\n",
        "        ax.plot(vf, 20*np.log10(Xn + 1e-10))\n",
        "        ax.set(xlabel=\"f [Hz]\", ylabel=\"|X(f)| dB\")\n",
        "        st.pyplot(fig)\n",
        "\n",
        "        # Ajustar features al modelo\n",
        "        expected = getattr(model, 'n_features_in_', len(Xn))\n",
        "        if len(Xn) > expected:\n",
        "            Xn_adj = Xn[:expected]\n",
        "        else:\n",
        "            Xn_adj = np.pad(Xn, (0, expected-len(Xn)), 'constant')\n",
        "\n",
        "        # 5) Predicción y mapeo\n",
        "        raw_pred = model.predict(Xn_adj.reshape(1,-1))[0]\n",
        "        label_map = {1:'Reggaeton', 2:'Salsa'}\n",
        "        gen = label_map.get(raw_pred, f\"Clase {raw_pred}\")\n",
        "        st.subheader(\"Predicción de Género\")\n",
        "        st.success(f\"**Género previsto:** {gen}\")\n",
        "\n",
        "    except Exception as e:\n",
        "        st.error(f\"🚨 Error procesando: {e}\")\n",
        "        st.text(traceback.format_exc())\n",
        "else:\n",
        "    st.info(\"👉 Ingresa URL o ID en la barra lateral.\")\n",
        "EOF\n"
      ],
      "metadata": {
        "id": "d7Jktl6beBZh"
      },
      "execution_count": 210,
      "outputs": []
    },
    {
      "cell_type": "markdown",
      "source": [
        "4) Arrancar Streamlit y Cloudflared"
      ],
      "metadata": {
        "id": "-mQTlKVHeFS0"
      }
    },
    {
      "cell_type": "code",
      "source": [
        "# Mata cualquier Streamlit antiguo\n",
        "!pkill -f streamlit\n",
        "\n",
        "# Verifica errores recientes\n",
        "!tail -n 30 logs.txt || echo \"No hay logs.txt aún\"\n"
      ],
      "metadata": {
        "colab": {
          "base_uri": "https://localhost:8080/"
        },
        "id": "8IuZGY259GaZ",
        "outputId": "1f911d62-44fb-40c0-d76a-417635bc42ef"
      },
      "execution_count": 211,
      "outputs": [
        {
          "output_type": "stream",
          "name": "stdout",
          "text": [
            "Usage: streamlit run [OPTIONS] TARGET [ARGS]...\n",
            "Try 'streamlit run --help' for help.\n",
            "\n",
            "Error: Invalid value: File does not exist: 0_👋_Hello.py\n"
          ]
        }
      ]
    },
    {
      "cell_type": "code",
      "source": [
        "!wget -q https://github.com/cloudflare/cloudflared/releases/latest/download/cloudflared-linux-amd64\n",
        "!chmod +x cloudflared-linux-amd64\n",
        "!mv cloudflared-linux-amd64 /usr/local/bin/cloudflared\n",
        "\n",
        "# Ejecutar Streamlit\n",
        "!streamlit run app.py &> /content/logs.txt &  # o reemplaza app.py por tu script\n",
        "\n",
        "# Exponer el puerto 8501 con Cloudflare Tunnel\n",
        "!cloudflared tunnel --url http://localhost:8501 > /content/cloudflared.log 2>&1 &\n"
      ],
      "metadata": {
        "id": "Ig_58hIaBysP"
      },
      "execution_count": 213,
      "outputs": []
    },
    {
      "cell_type": "code",
      "source": [
        "import time, re, os\n",
        "\n",
        "time.sleep(5)\n",
        "url = None\n",
        "with open('/content/cloudflared.log') as f:\n",
        "    for line in f:\n",
        "        # Busca cualquier enlace a trycloudflare.com\n",
        "        m = re.search(r'https://[\\\\w\\\\.-]+\\\\.trycloudflare\\\\.com', line)\n",
        "        if m:\n",
        "            url = m.group(0)\n",
        "            break\n",
        "\n",
        "if url:\n",
        "    print(f\"✅ Tu app está en:\\n{url}\")\n",
        "else:\n",
        "    print(\"⚠️ No encontré la URL. Revisa cloudflared.log:\\n\")\n",
        "    print(open('/content/cloudflared.log').read())\n",
        "\n",
        "res = input(\"Escribe '1' para detener Streamlit: \")\n",
        "if res.strip() == \"1\":\n",
        "    os.system(\"pkill streamlit\")\n",
        "    print(\"🔴 Streamlit detenido.\")\n",
        "\n"
      ],
      "metadata": {
        "colab": {
          "base_uri": "https://localhost:8080/"
        },
        "id": "XRmLbN4xB1yr",
        "outputId": "c69e5fcc-d8ca-4655-c739-863b91d2bf57"
      },
      "execution_count": null,
      "outputs": [
        {
          "output_type": "stream",
          "name": "stdout",
          "text": [
            "⚠️ No encontré la URL. Revisa cloudflared.log:\n",
            "\n",
            "2025-06-16T04:37:27Z INF Thank you for trying Cloudflare Tunnel. Doing so, without a Cloudflare account, is a quick way to experiment and try it out. However, be aware that these account-less Tunnels have no uptime guarantee, are subject to the Cloudflare Online Services Terms of Use (https://www.cloudflare.com/website-terms/), and Cloudflare reserves the right to investigate your use of Tunnels for violations of such terms. If you intend to use Tunnels in production you should use a pre-created named tunnel by following: https://developers.cloudflare.com/cloudflare-one/connections/connect-apps\n",
            "2025-06-16T04:37:27Z INF Requesting new quick Tunnel on trycloudflare.com...\n",
            "2025-06-16T04:37:31Z INF +--------------------------------------------------------------------------------------------+\n",
            "2025-06-16T04:37:31Z INF |  Your quick Tunnel has been created! Visit it at (it may take some time to be reachable):  |\n",
            "2025-06-16T04:37:31Z INF |  https://apparent-tablet-tan-ship.trycloudflare.com                                        |\n",
            "2025-06-16T04:37:31Z INF +--------------------------------------------------------------------------------------------+\n",
            "2025-06-16T04:37:31Z INF Cannot determine default configuration path. No file [config.yml config.yaml] in [~/.cloudflared ~/.cloudflare-warp ~/cloudflare-warp /etc/cloudflared /usr/local/etc/cloudflared]\n",
            "2025-06-16T04:37:31Z INF Version 2025.6.0 (Checksum 173276e3370f366493fb818ebe33cca23a9601d721ca3c03085b3f838eaf3ca9)\n",
            "2025-06-16T04:37:31Z INF GOOS: linux, GOVersion: go1.24.2, GoArch: amd64\n",
            "2025-06-16T04:37:31Z INF Settings: map[ha-connections:1 protocol:quic url:http://localhost:8501]\n",
            "2025-06-16T04:37:31Z INF Autoupdate frequency is set autoupdateFreq=86400000\n",
            "2025-06-16T04:37:31Z INF Generated Connector ID: 449cb375-fcb4-49b5-8c9e-59fe46ae49a6\n",
            "2025-06-16T04:37:31Z INF Initial protocol quic\n",
            "2025-06-16T04:37:31Z INF ICMP proxy will use 172.28.0.12 as source for IPv4\n",
            "2025-06-16T04:37:31Z INF ICMP proxy will use :: as source for IPv6\n",
            "2025-06-16T04:37:31Z INF ICMP proxy will use 172.28.0.12 as source for IPv4\n",
            "2025-06-16T04:37:31Z INF ICMP proxy will use :: as source for IPv6\n",
            "2025-06-16T04:37:31Z INF Starting metrics server on 127.0.0.1:20241/metrics\n",
            "2025-06-16T04:37:31Z INF Tunnel connection curve preferences: [X25519MLKEM768 CurveID(25497) CurveP256] connIndex=0 event=0 ip=198.41.192.37\n",
            "2025/06/16 04:37:31 failed to sufficiently increase receive buffer size (was: 208 kiB, wanted: 7168 kiB, got: 416 kiB). See https://github.com/quic-go/quic-go/wiki/UDP-Buffer-Sizes for details.\n",
            "2025-06-16T04:37:31Z INF Registered tunnel connection connIndex=0 connection=93f7c169-9605-4f2b-804a-380738ca4aa0 event=0 ip=198.41.192.37 location=hkg09 protocol=quic\n",
            "\n"
          ]
        }
      ]
    }
  ]
}