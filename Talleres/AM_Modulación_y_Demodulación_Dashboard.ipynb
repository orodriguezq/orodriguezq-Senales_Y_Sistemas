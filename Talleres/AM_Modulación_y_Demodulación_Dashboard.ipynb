{
  "nbformat": 4,
  "nbformat_minor": 0,
  "metadata": {
    "colab": {
      "provenance": [],
      "authorship_tag": "ABX9TyNdrf4un2t6J5BQGpcnhYmi",
      "include_colab_link": true
    },
    "kernelspec": {
      "name": "python3",
      "display_name": "Python 3"
    },
    "language_info": {
      "name": "python"
    }
  },
  "cells": [
    {
      "cell_type": "markdown",
      "metadata": {
        "id": "view-in-github",
        "colab_type": "text"
      },
      "source": [
        "<a href=\"https://colab.research.google.com/github/orodriguezq/orodriguezq-Senales_Y_Sistemas/blob/main/Talleres/AM_Modulaci%C3%B3n_y_Demodulaci%C3%B3n_Dashboard.ipynb\" target=\"_parent\"><img src=\"https://colab.research.google.com/assets/colab-badge.svg\" alt=\"Open In Colab\"/></a>"
      ]
    },
    {
      "cell_type": "markdown",
      "source": [
        "Instalar dependencias"
      ],
      "metadata": {
        "id": "zF7UcnD3OyGT"
      }
    },
    {
      "cell_type": "code",
      "execution_count": 37,
      "metadata": {
        "colab": {
          "base_uri": "https://localhost:8080/"
        },
        "id": "b53dTP_JOttO",
        "outputId": "9c8855f4-cc7e-419f-aa9b-bbb68f7aaf93"
      },
      "outputs": [
        {
          "output_type": "stream",
          "name": "stdout",
          "text": [
            "\u001b[33m\r0% [Working]\u001b[0m\r            \rHit:1 https://developer.download.nvidia.com/compute/cuda/repos/ubuntu2204/x86_64  InRelease\n",
            "\u001b[33m\r0% [Waiting for headers] [Waiting for headers] [Waiting for headers] [Connected\u001b[0m\r                                                                               \rHit:2 https://cloud.r-project.org/bin/linux/ubuntu jammy-cran40/ InRelease\n",
            "\u001b[33m\r0% [Waiting for headers] [Waiting for headers] [Connected to r2u.stat.illinois.\u001b[0m\r                                                                               \rHit:3 http://archive.ubuntu.com/ubuntu jammy InRelease\n",
            "Hit:4 http://security.ubuntu.com/ubuntu jammy-security InRelease\n",
            "Hit:5 http://archive.ubuntu.com/ubuntu jammy-updates InRelease\n",
            "Hit:6 http://archive.ubuntu.com/ubuntu jammy-backports InRelease\n",
            "Hit:7 https://r2u.stat.illinois.edu/ubuntu jammy InRelease\n",
            "Hit:8 https://ppa.launchpadcontent.net/deadsnakes/ppa/ubuntu jammy InRelease\n",
            "Hit:9 https://ppa.launchpadcontent.net/graphics-drivers/ppa/ubuntu jammy InRelease\n",
            "Hit:10 https://ppa.launchpadcontent.net/ubuntugis/ppa/ubuntu jammy InRelease\n",
            "Reading package lists... Done\n",
            "Building dependency tree... Done\n",
            "Reading state information... Done\n",
            "35 packages can be upgraded. Run 'apt list --upgradable' to see them.\n",
            "\u001b[1;33mW: \u001b[0mSkipping acquire of configured file 'main/source/Sources' as repository 'https://r2u.stat.illinois.edu/ubuntu jammy InRelease' does not seem to provide it (sources.list entry misspelt?)\u001b[0m\n",
            "Reading package lists... Done\n",
            "Building dependency tree... Done\n",
            "Reading state information... Done\n",
            "ffmpeg is already the newest version (7:4.4.2-0ubuntu0.22.04.1).\n",
            "0 upgraded, 0 newly installed, 0 to remove and 35 not upgraded.\n",
            "ffmpeg version 4.4.2-0ubuntu0.22.04.1 Copyright (c) 2000-2021 the FFmpeg developers\n",
            "built with gcc 11 (Ubuntu 11.2.0-19ubuntu1)\n",
            "configuration: --prefix=/usr --extra-version=0ubuntu0.22.04.1 --toolchain=hardened --libdir=/usr/lib/x86_64-linux-gnu --incdir=/usr/include/x86_64-linux-gnu --arch=amd64 --enable-gpl --disable-stripping --enable-gnutls --enable-ladspa --enable-libaom --enable-libass --enable-libbluray --enable-libbs2b --enable-libcaca --enable-libcdio --enable-libcodec2 --enable-libdav1d --enable-libflite --enable-libfontconfig --enable-libfreetype --enable-libfribidi --enable-libgme --enable-libgsm --enable-libjack --enable-libmp3lame --enable-libmysofa --enable-libopenjpeg --enable-libopenmpt --enable-libopus --enable-libpulse --enable-librabbitmq --enable-librubberband --enable-libshine --enable-libsnappy --enable-libsoxr --enable-libspeex --enable-libsrt --enable-libssh --enable-libtheora --enable-libtwolame --enable-libvidstab --enable-libvorbis --enable-libvpx --enable-libwebp --enable-libx265 --enable-libxml2 --enable-libxvid --enable-libzimg --enable-libzmq --enable-libzvbi --enable-lv2 --enable-omx --enable-openal --enable-opencl --enable-opengl --enable-sdl2 --enable-pocketsphinx --enable-librsvg --enable-libmfx --enable-libdc1394 --enable-libdrm --enable-libiec61883 --enable-chromaprint --enable-frei0r --enable-libx264 --enable-shared\n",
            "libavutil      56. 70.100 / 56. 70.100\n",
            "libavcodec     58.134.100 / 58.134.100\n",
            "libavformat    58. 76.100 / 58. 76.100\n",
            "libavdevice    58. 13.100 / 58. 13.100\n",
            "libavfilter     7.110.100 /  7.110.100\n",
            "libswscale      5.  9.100 /  5.  9.100\n",
            "libswresample   3.  9.100 /  3.  9.100\n",
            "libpostproc    55.  9.100 / 55.  9.100\n"
          ]
        }
      ],
      "source": [
        "!pip install -q streamlit yt-dlp pydub joblib scikit-learn matplotlib requests librosa\n",
        "!apt update && apt install -y ffmpeg\n",
        "!ffmpeg -version\n"
      ]
    },
    {
      "cell_type": "markdown",
      "source": [
        "Eliminar scripts viejos"
      ],
      "metadata": {
        "id": "IjIVeLeyO07m"
      }
    },
    {
      "cell_type": "code",
      "source": [
        "!rm -f app.py  # o el nombre de tu script anterior\n",
        "!rm -f logs.txt cloudflared.log\n"
      ],
      "metadata": {
        "id": "hoBlNRZ3O3xx"
      },
      "execution_count": 38,
      "outputs": []
    },
    {
      "cell_type": "markdown",
      "source": [
        "Crear el script app.py"
      ],
      "metadata": {
        "id": "sva16w2-O6lc"
      }
    },
    {
      "cell_type": "code",
      "source": [
        "%%bash\n",
        "cat > app.py << 'EOF'\n",
        "import streamlit as st\n",
        "import numpy as np\n",
        "import matplotlib.pyplot as plt\n",
        "import io\n",
        "import os\n",
        "from scipy.io import wavfile\n",
        "from yt_dlp import YoutubeDL\n",
        "from pydub import AudioSegment\n",
        "import traceback\n",
        "\n",
        "# --- Configuración de la app ---\n",
        "st.set_page_config(page_title=\"AM Modulación/Demodulación\", page_icon=\"📻\", layout=\"wide\")\n",
        "st.title(\"AM Modulación y Demodulación Coherente\")\n",
        "\n",
        "# --- Descargar audio de YouTube ---\n",
        "@st.cache_data\n",
        "def download_youtube_audio(url: str, out_fname: str = 'audio.wav'):\n",
        "    for f in os.listdir():\n",
        "        if f.startswith('audio.') or f == out_fname:\n",
        "            try: os.remove(f)\n",
        "            except: pass\n",
        "    opts = {'format':'bestaudio/best','outtmpl':'audio.%(ext)s','quiet':True}\n",
        "    with YoutubeDL(opts) as ydl:\n",
        "        info = ydl.extract_info(url, download=True)\n",
        "        ext  = info.get('ext','m4a')\n",
        "        fname= f\"audio.{ext}\"\n",
        "    audio = AudioSegment.from_file(fname).set_channels(1)\n",
        "    audio.export(out_fname, format='wav')\n",
        "    os.remove(fname)\n",
        "    return out_fname\n",
        "\n",
        "# --- Dominio tiempo & frecuencia ---\n",
        "def plot_time_freq(x, fs, title, t_lim=None, f_lim=None):\n",
        "    N = len(x); t = np.arange(N)/fs\n",
        "    fig, (ax1,ax2) = plt.subplots(1,2,figsize=(10,3))\n",
        "    ax1.plot(t,x); ax1.set(xlabel='t [s]',ylabel='x(t)',title=f'{title} – Tiempo')\n",
        "    if t_lim: ax1.set_xlim(t_lim)\n",
        "    Xf = np.fft.fft(x); freqs = np.fft.fftfreq(N,1/fs)\n",
        "    ax2.plot(freqs,np.abs(Xf)/N); ax2.set(xlabel='f [Hz]',ylabel='|X(f)|',title=f'{title} – Frecuencia')\n",
        "    if f_lim: ax2.set_xlim(f_lim)\n",
        "    fig.tight_layout(); st.pyplot(fig)\n",
        "\n",
        "# --- Parámetros ---\n",
        "st.sidebar.header(\"Parámetros\")\n",
        "url = st.sidebar.text_input(\"URL de YouTube\",\"https://www.youtube.com/watch?v=dQw4w9WgXcQ\")\n",
        "t0  = st.sidebar.number_input(\"Tiempo inicio (s)\",min_value=0.0,value=0.0,step=0.1)\n",
        "t1  = st.sidebar.number_input(\"Tiempo fin    (s)\",min_value=0.1,value=1.0,step=0.1)\n",
        "f0  = st.sidebar.number_input(\"Portadora f0 (Hz)\",min_value=100.0,value=10000.0,step=100.0)\n",
        "B   = st.sidebar.number_input(\"LPF ancho B (Hz)\",min_value=100.0,value=5000.0,step=100.0)\n",
        "\n",
        "if url:\n",
        "    try:\n",
        "        # descarga y WAV mono\n",
        "        wav_file = download_youtube_audio(url)\n",
        "        fs,data = wavfile.read(wav_file)\n",
        "        if data.ndim>1: data=data[:,0]\n",
        "        audio_seg = AudioSegment.from_wav(wav_file).set_channels(1)\n",
        "\n",
        "        # 1) mensaje\n",
        "        ms0,ms1 = int(t0*1000),int(t1*1000)\n",
        "        msg = audio_seg[ms0:ms1]\n",
        "        m   = np.array(msg.get_array_of_samples()); Ac=np.max(np.abs(m))\n",
        "        st.subheader(\"1) Mensaje m(t)\")\n",
        "        plot_time_freq(m,fs,'Mensaje',t_lim=(t0,t1),f_lim=(-B,B))\n",
        "        buf=io.BytesIO(); msg.export(buf,format='wav'); buf.seek(0)\n",
        "        st.audio(buf.read(),format='audio/wav',sample_rate=fs)\n",
        "\n",
        "        # 2) portadora\n",
        "        t=np.arange(len(m))/fs; carrier=np.cos(2*np.pi*f0*t)\n",
        "        st.subheader(\"2) Portadora cos(2πf0t)\")\n",
        "        plot_time_freq(carrier,fs,'Portadora',t_lim=(t0,t1),f_lim=(-2*f0,2*f0))\n",
        "\n",
        "        # 3) AM\n",
        "        r=(1+m/Ac)*carrier\n",
        "        st.subheader(\"3) Señal AM r(t)\")\n",
        "        plot_time_freq(r,fs,'AM',t_lim=(t0,t1),f_lim=(-2*f0,2*f0))\n",
        "        r_int=(r/np.max(np.abs(r))*32767).astype(np.int16)\n",
        "        r_seg=AudioSegment(r_int.tobytes(),sample_width=2,frame_rate=fs,channels=1)\n",
        "        buf=io.BytesIO(); r_seg.export(buf,format='wav'); buf.seek(0)\n",
        "        st.audio(buf.read(),format='audio/wav',sample_rate=fs)\n",
        "\n",
        "        # 4) mezclador y1\n",
        "        y1=r*carrier\n",
        "        st.subheader(\"4) Mezclador y1(t)\")\n",
        "        plot_time_freq(y1,fs,'Mezclador',t_lim=(t0,t1),f_lim=(-2*f0,2*f0))\n",
        "\n",
        "        # 5) LPF\n",
        "        Y1=np.fft.fft(y1)\n",
        "        freqs=np.fft.fftfreq(len(Y1),1/fs)\n",
        "        mask=np.abs(freqs)<B; y2=np.real(np.fft.ifft(Y1*mask))\n",
        "        st.subheader(\"5) Tras LPF y2(t)\")\n",
        "        plot_time_freq(y2,fs,'LPF',t_lim=(t0,t1),f_lim=(-B,B))\n",
        "        y2_int=(y2/np.max(np.abs(y2))*32767).astype(np.int16)\n",
        "        y2_seg=AudioSegment(y2_int.tobytes(),sample_width=2,frame_rate=fs,channels=1)\n",
        "        buf=io.BytesIO(); y2_seg.export(buf,format='wav'); buf.seek(0)\n",
        "        st.audio(buf.read(),format='audio/wav',sample_rate=fs)\n",
        "\n",
        "        # 6) mensaje recuperado\n",
        "        m_rec=(2/Ac)*y2\n",
        "        st.subheader(\"6) Mensaje recuperado m_rec(t)\")\n",
        "        plot_time_freq(m_rec,fs,'Recuperado',t_lim=(t0,t1),f_lim=(-B,B))\n",
        "        m_int=(m_rec/np.max(np.abs(m_rec))*32767).astype(np.int16)\n",
        "        m_seg=AudioSegment(m_int.tobytes(),sample_width=2,frame_rate=fs,channels=1)\n",
        "        buf=io.BytesIO(); m_seg.export(buf,format='wav'); buf.seek(0)\n",
        "        st.audio(buf.read(),format='audio/wav',sample_rate=fs)\n",
        "\n",
        "    except Exception as ex:\n",
        "        st.error(f\"Error en pipeline: {ex}\")\n",
        "        st.text(traceback.format_exc())\n",
        "else:\n",
        "    st.info(\"👉 Ingresa URL o ID en la barra lateral.\")\n",
        "EOF\n"
      ],
      "metadata": {
        "id": "aoWpxzLbO9HS"
      },
      "execution_count": 45,
      "outputs": []
    },
    {
      "cell_type": "markdown",
      "source": [
        "Detener instancias de Streamlit y revisar logs"
      ],
      "metadata": {
        "id": "McfdDPlGPElM"
      }
    },
    {
      "cell_type": "code",
      "source": [
        "!pkill -f streamlit || true\n",
        "!tail -n 30 logs.txt || echo \"No hay logs aún\"\n"
      ],
      "metadata": {
        "colab": {
          "base_uri": "https://localhost:8080/"
        },
        "id": "2fhAStSrPES5",
        "outputId": "c0b92b4a-ec2e-4831-9764-f5a5a9b6b6ee"
      },
      "execution_count": 46,
      "outputs": [
        {
          "output_type": "stream",
          "name": "stdout",
          "text": [
            "^C\n",
            "Usage: streamlit run [OPTIONS] TARGET [ARGS]...\n",
            "Try 'streamlit run --help' for help.\n",
            "\n",
            "Error: Invalid value: File does not exist: app.py\n"
          ]
        }
      ]
    },
    {
      "cell_type": "markdown",
      "source": [
        " Descargar e iniciar Cloudflared"
      ],
      "metadata": {
        "id": "9p9EfCnkPYD1"
      }
    },
    {
      "cell_type": "code",
      "source": [
        "# Descarga y prepara Cloudflared\n",
        "!wget -q https://github.com/cloudflare/cloudflared/releases/latest/download/cloudflared-linux-amd64\n",
        "!chmod +x cloudflared-linux-amd64\n",
        "!mv cloudflared-linux-amd64 /usr/local/bin/cloudflared\n",
        "\n",
        "# Ejecutar Streamlit en background\n",
        "!streamlit run app.py &> /content/logs.txt &\n",
        "\n",
        "# Iniciar túnel\n",
        "!cloudflared tunnel --url http://localhost:8501 > /content/cloudflared.log 2>&1 &\n"
      ],
      "metadata": {
        "id": "6PquzZ-uPeCA"
      },
      "execution_count": 47,
      "outputs": []
    },
    {
      "cell_type": "markdown",
      "source": [
        "Extraer y mostrar la URL pública"
      ],
      "metadata": {
        "id": "P2p7U_9XPibI"
      }
    },
    {
      "cell_type": "code",
      "source": [
        "import time, re, os\n",
        "\n",
        "# Espera a que aparezca la línea en el log\n",
        "time.sleep(5)\n",
        "\n",
        "url = None\n",
        "with open('/content/cloudflared.log') as f:\n",
        "    for line in f:\n",
        "        if \"Your quick Tunnel has been created\" in line:\n",
        "            m = re.search(r'https?://\\S+', line)\n",
        "            if m:\n",
        "                url = m.group(0)\n",
        "                break\n",
        "\n",
        "if url:\n",
        "    print(f\"✅ Tu aplicación está disponible en:\\n{url}\")\n",
        "else:\n",
        "    print(\"⚠️ No encontré la URL. Revisa cloudflared.log:\\n\")\n",
        "    print(open('/content/cloudflared.log').read())\n",
        "\n",
        "res = input(\"Escribe '1' para detener Streamlit: \")\n",
        "if res.strip() == \"1\":\n",
        "    os.system(\"pkill streamlit\")\n",
        "    print(\"🔴 Streamlit detenido.\")\n",
        "\n"
      ],
      "metadata": {
        "colab": {
          "base_uri": "https://localhost:8080/"
        },
        "id": "n1u02yEOPjJi",
        "outputId": "6939461d-270a-4aea-abd7-ea4334ffab7d"
      },
      "execution_count": 48,
      "outputs": [
        {
          "output_type": "stream",
          "name": "stdout",
          "text": [
            "⚠️ No encontré la URL. Revisa cloudflared.log:\n",
            "\n",
            "2025-06-16T06:06:49Z INF Thank you for trying Cloudflare Tunnel. Doing so, without a Cloudflare account, is a quick way to experiment and try it out. However, be aware that these account-less Tunnels have no uptime guarantee, are subject to the Cloudflare Online Services Terms of Use (https://www.cloudflare.com/website-terms/), and Cloudflare reserves the right to investigate your use of Tunnels for violations of such terms. If you intend to use Tunnels in production you should use a pre-created named tunnel by following: https://developers.cloudflare.com/cloudflare-one/connections/connect-apps\n",
            "2025-06-16T06:06:49Z INF Requesting new quick Tunnel on trycloudflare.com...\n",
            "2025-06-16T06:06:52Z INF +--------------------------------------------------------------------------------------------+\n",
            "2025-06-16T06:06:52Z INF |  Your quick Tunnel has been created! Visit it at (it may take some time to be reachable):  |\n",
            "2025-06-16T06:06:52Z INF |  https://classifieds-tickets-hereby-oldest.trycloudflare.com                               |\n",
            "2025-06-16T06:06:52Z INF +--------------------------------------------------------------------------------------------+\n",
            "2025-06-16T06:06:52Z INF Cannot determine default configuration path. No file [config.yml config.yaml] in [~/.cloudflared ~/.cloudflare-warp ~/cloudflare-warp /etc/cloudflared /usr/local/etc/cloudflared]\n",
            "2025-06-16T06:06:52Z INF Version 2025.6.0 (Checksum 173276e3370f366493fb818ebe33cca23a9601d721ca3c03085b3f838eaf3ca9)\n",
            "2025-06-16T06:06:52Z INF GOOS: linux, GOVersion: go1.24.2, GoArch: amd64\n",
            "2025-06-16T06:06:52Z INF Settings: map[ha-connections:1 protocol:quic url:http://localhost:8501]\n",
            "2025-06-16T06:06:52Z INF Autoupdate frequency is set autoupdateFreq=86400000\n",
            "2025-06-16T06:06:52Z INF Generated Connector ID: 733ed7c8-efb2-46ea-8dca-ca3f311f2bd2\n",
            "2025-06-16T06:06:52Z INF Initial protocol quic\n",
            "2025-06-16T06:06:52Z INF ICMP proxy will use 172.28.0.12 as source for IPv4\n",
            "2025-06-16T06:06:52Z INF ICMP proxy will use :: as source for IPv6\n",
            "2025-06-16T06:06:52Z INF ICMP proxy will use 172.28.0.12 as source for IPv4\n",
            "2025-06-16T06:06:52Z INF ICMP proxy will use :: as source for IPv6\n",
            "2025-06-16T06:06:52Z INF Starting metrics server on 127.0.0.1:42505/metrics\n",
            "2025-06-16T06:06:52Z INF Tunnel connection curve preferences: [X25519MLKEM768 CurveID(25497) CurveP256] connIndex=0 event=0 ip=198.41.192.57\n",
            "2025/06/16 06:06:52 failed to sufficiently increase receive buffer size (was: 208 kiB, wanted: 7168 kiB, got: 416 kiB). See https://github.com/quic-go/quic-go/wiki/UDP-Buffer-Sizes for details.\n",
            "2025-06-16T06:06:52Z INF Registered tunnel connection connIndex=0 connection=93f1ae1f-1139-45ed-afe6-a73acd8a7c8a event=0 ip=198.41.192.57 location=lax09 protocol=quic\n",
            "\n",
            "Escribe '1' para detener Streamlit: 1\n",
            "🔴 Streamlit detenido.\n"
          ]
        }
      ]
    }
  ]
}