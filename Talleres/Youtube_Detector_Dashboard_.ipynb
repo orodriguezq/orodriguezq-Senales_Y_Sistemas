{
  "nbformat": 4,
  "nbformat_minor": 0,
  "metadata": {
    "colab": {
      "provenance": [],
      "authorship_tag": "ABX9TyOhkvlaiXpIu1JCV8vaCiN1",
      "include_colab_link": true
    },
    "kernelspec": {
      "name": "python3",
      "display_name": "Python 3"
    },
    "language_info": {
      "name": "python"
    }
  },
  "cells": [
    {
      "cell_type": "markdown",
      "metadata": {
        "id": "view-in-github",
        "colab_type": "text"
      },
      "source": [
        "<a href=\"https://colab.research.google.com/github/orodriguezq/orodriguezq-Senales_Y_Sistemas/blob/main/Talleres/Youtube_Detector_Dashboard_.ipynb\" target=\"_parent\"><img src=\"https://colab.research.google.com/assets/colab-badge.svg\" alt=\"Open In Colab\"/></a>"
      ]
    },
    {
      "cell_type": "markdown",
      "source": [
        "🔧 1) Instalar dependencias"
      ],
      "metadata": {
        "id": "nzv1DhrFA6-U"
      }
    },
    {
      "cell_type": "code",
      "source": [
        "!pip install -q streamlit yt-dlp pydub joblib scikit-learn matplotlib requests ffmpeg\n",
        "!apt update && apt install -y ffmpeg\n",
        "!ffmpeg -version\n",
        "!pip install librosa\n"
      ],
      "metadata": {
        "colab": {
          "base_uri": "https://localhost:8080/"
        },
        "id": "79vZNNuKd53p",
        "outputId": "1f55275b-a06d-41b8-9ac5-82fe4bd16648"
      },
      "execution_count": null,
      "outputs": [
        {
          "output_type": "stream",
          "name": "stdout",
          "text": [
            "\u001b[33m\r0% [Working]\u001b[0m\r            \rHit:1 https://developer.download.nvidia.com/compute/cuda/repos/ubuntu2204/x86_64  InRelease\n",
            "Hit:2 https://cloud.r-project.org/bin/linux/ubuntu jammy-cran40/ InRelease\n",
            "Hit:3 http://security.ubuntu.com/ubuntu jammy-security InRelease\n",
            "Hit:4 http://archive.ubuntu.com/ubuntu jammy InRelease\n",
            "Hit:5 http://archive.ubuntu.com/ubuntu jammy-updates InRelease\n",
            "Hit:6 http://archive.ubuntu.com/ubuntu jammy-backports InRelease\n",
            "Hit:7 https://ppa.launchpadcontent.net/deadsnakes/ppa/ubuntu jammy InRelease\n",
            "Hit:8 https://r2u.stat.illinois.edu/ubuntu jammy InRelease\n",
            "Hit:9 https://ppa.launchpadcontent.net/graphics-drivers/ppa/ubuntu jammy InRelease\n",
            "Hit:10 https://ppa.launchpadcontent.net/ubuntugis/ppa/ubuntu jammy InRelease\n",
            "Reading package lists... Done\n",
            "Building dependency tree... Done\n",
            "Reading state information... Done\n",
            "35 packages can be upgraded. Run 'apt list --upgradable' to see them.\n",
            "\u001b[1;33mW: \u001b[0mSkipping acquire of configured file 'main/source/Sources' as repository 'https://r2u.stat.illinois.edu/ubuntu jammy InRelease' does not seem to provide it (sources.list entry misspelt?)\u001b[0m\n",
            "Reading package lists... Done\n",
            "Building dependency tree... Done\n",
            "Reading state information... Done\n",
            "ffmpeg is already the newest version (7:4.4.2-0ubuntu0.22.04.1).\n",
            "0 upgraded, 0 newly installed, 0 to remove and 35 not upgraded.\n",
            "ffmpeg version 4.4.2-0ubuntu0.22.04.1 Copyright (c) 2000-2021 the FFmpeg developers\n",
            "built with gcc 11 (Ubuntu 11.2.0-19ubuntu1)\n",
            "configuration: --prefix=/usr --extra-version=0ubuntu0.22.04.1 --toolchain=hardened --libdir=/usr/lib/x86_64-linux-gnu --incdir=/usr/include/x86_64-linux-gnu --arch=amd64 --enable-gpl --disable-stripping --enable-gnutls --enable-ladspa --enable-libaom --enable-libass --enable-libbluray --enable-libbs2b --enable-libcaca --enable-libcdio --enable-libcodec2 --enable-libdav1d --enable-libflite --enable-libfontconfig --enable-libfreetype --enable-libfribidi --enable-libgme --enable-libgsm --enable-libjack --enable-libmp3lame --enable-libmysofa --enable-libopenjpeg --enable-libopenmpt --enable-libopus --enable-libpulse --enable-librabbitmq --enable-librubberband --enable-libshine --enable-libsnappy --enable-libsoxr --enable-libspeex --enable-libsrt --enable-libssh --enable-libtheora --enable-libtwolame --enable-libvidstab --enable-libvorbis --enable-libvpx --enable-libwebp --enable-libx265 --enable-libxml2 --enable-libxvid --enable-libzimg --enable-libzmq --enable-libzvbi --enable-lv2 --enable-omx --enable-openal --enable-opencl --enable-opengl --enable-sdl2 --enable-pocketsphinx --enable-librsvg --enable-libmfx --enable-libdc1394 --enable-libdrm --enable-libiec61883 --enable-chromaprint --enable-frei0r --enable-libx264 --enable-shared\n",
            "libavutil      56. 70.100 / 56. 70.100\n",
            "libavcodec     58.134.100 / 58.134.100\n",
            "libavformat    58. 76.100 / 58. 76.100\n",
            "libavdevice    58. 13.100 / 58. 13.100\n",
            "libavfilter     7.110.100 /  7.110.100\n",
            "libswscale      5.  9.100 /  5.  9.100\n",
            "libswresample   3.  9.100 /  3.  9.100\n",
            "libpostproc    55.  9.100 / 55.  9.100\n",
            "Requirement already satisfied: librosa in /usr/local/lib/python3.11/dist-packages (0.11.0)\n",
            "Requirement already satisfied: audioread>=2.1.9 in /usr/local/lib/python3.11/dist-packages (from librosa) (3.0.1)\n",
            "Requirement already satisfied: numba>=0.51.0 in /usr/local/lib/python3.11/dist-packages (from librosa) (0.60.0)\n",
            "Requirement already satisfied: numpy>=1.22.3 in /usr/local/lib/python3.11/dist-packages (from librosa) (2.0.2)\n",
            "Requirement already satisfied: scipy>=1.6.0 in /usr/local/lib/python3.11/dist-packages (from librosa) (1.15.3)\n",
            "Requirement already satisfied: scikit-learn>=1.1.0 in /usr/local/lib/python3.11/dist-packages (from librosa) (1.7.0)\n",
            "Requirement already satisfied: joblib>=1.0 in /usr/local/lib/python3.11/dist-packages (from librosa) (1.5.1)\n",
            "Requirement already satisfied: decorator>=4.3.0 in /usr/local/lib/python3.11/dist-packages (from librosa) (4.4.2)\n",
            "Requirement already satisfied: soundfile>=0.12.1 in /usr/local/lib/python3.11/dist-packages (from librosa) (0.13.1)\n",
            "Requirement already satisfied: pooch>=1.1 in /usr/local/lib/python3.11/dist-packages (from librosa) (1.8.2)\n",
            "Requirement already satisfied: soxr>=0.3.2 in /usr/local/lib/python3.11/dist-packages (from librosa) (0.5.0.post1)\n",
            "Requirement already satisfied: typing_extensions>=4.1.1 in /usr/local/lib/python3.11/dist-packages (from librosa) (4.14.0)\n",
            "Requirement already satisfied: lazy_loader>=0.1 in /usr/local/lib/python3.11/dist-packages (from librosa) (0.4)\n",
            "Requirement already satisfied: msgpack>=1.0 in /usr/local/lib/python3.11/dist-packages (from librosa) (1.1.0)\n",
            "Requirement already satisfied: packaging in /usr/local/lib/python3.11/dist-packages (from lazy_loader>=0.1->librosa) (24.2)\n",
            "Requirement already satisfied: llvmlite<0.44,>=0.43.0dev0 in /usr/local/lib/python3.11/dist-packages (from numba>=0.51.0->librosa) (0.43.0)\n",
            "Requirement already satisfied: platformdirs>=2.5.0 in /usr/local/lib/python3.11/dist-packages (from pooch>=1.1->librosa) (4.3.8)\n",
            "Requirement already satisfied: requests>=2.19.0 in /usr/local/lib/python3.11/dist-packages (from pooch>=1.1->librosa) (2.32.4)\n",
            "Requirement already satisfied: threadpoolctl>=3.1.0 in /usr/local/lib/python3.11/dist-packages (from scikit-learn>=1.1.0->librosa) (3.6.0)\n",
            "Requirement already satisfied: cffi>=1.0 in /usr/local/lib/python3.11/dist-packages (from soundfile>=0.12.1->librosa) (1.17.1)\n",
            "Requirement already satisfied: pycparser in /usr/local/lib/python3.11/dist-packages (from cffi>=1.0->soundfile>=0.12.1->librosa) (2.22)\n",
            "Requirement already satisfied: charset_normalizer<4,>=2 in /usr/local/lib/python3.11/dist-packages (from requests>=2.19.0->pooch>=1.1->librosa) (3.4.2)\n",
            "Requirement already satisfied: idna<4,>=2.5 in /usr/local/lib/python3.11/dist-packages (from requests>=2.19.0->pooch>=1.1->librosa) (3.10)\n",
            "Requirement already satisfied: urllib3<3,>=1.21.1 in /usr/local/lib/python3.11/dist-packages (from requests>=2.19.0->pooch>=1.1->librosa) (2.4.0)\n",
            "Requirement already satisfied: certifi>=2017.4.17 in /usr/local/lib/python3.11/dist-packages (from requests>=2.19.0->pooch>=1.1->librosa) (2025.4.26)\n"
          ]
        }
      ]
    },
    {
      "cell_type": "markdown",
      "source": [
        "2) (Opcional) Limpia antiguos directorios"
      ],
      "metadata": {
        "id": "uV1II82Id6uI"
      }
    },
    {
      "cell_type": "code",
      "source": [
        "!rm -rf pages"
      ],
      "metadata": {
        "id": "LUkqiu0Wd9il"
      },
      "execution_count": null,
      "outputs": []
    },
    {
      "cell_type": "markdown",
      "source": [
        "3) 0_👋_Hello.py completo"
      ],
      "metadata": {
        "id": "A64PNBEHd_MD"
      }
    },
    {
      "cell_type": "code",
      "source": [
        "import streamlit as st\n",
        "import numpy as np\n",
        "import matplotlib.pyplot as plt\n",
        "import joblib\n",
        "import io\n",
        "import os\n",
        "import re\n",
        "import traceback\n",
        "from yt_dlp import YoutubeDL\n",
        "from pydub import AudioSegment\n",
        "from sklearn.preprocessing import MinMaxScaler\n",
        "\n",
        "# --- Configuración de la app ---\n",
        "st.set_page_config(page_title=\"Detección de Género Musical\", page_icon=\"🎵\")\n",
        "st.markdown(\"# Detección de Género Musical 🎵\")\n",
        "st.sidebar.header(\"Enlace de YouTube o ID (11 caracteres)\")\n",
        "\n",
        "# --- Carga del modelo ---\n",
        "MODEL_FILE = \"knn_genre_detector.pkl\"\n",
        "if not os.path.exists(MODEL_FILE):\n",
        "    st.error(f\"❌ Modelo no encontrado: {MODEL_FILE}\")\n",
        "    st.stop()\n",
        "\n",
        "@st.cache_data\n",
        "def load_model():\n",
        "    return joblib.load(MODEL_FILE)\n",
        "\n",
        "loaded = load_model()\n",
        "if isinstance(loaded, dict):\n",
        "    # extraemos el primer estimador con predict\n",
        "    model = next((v for v in loaded.values() if hasattr(v, 'predict')), None)\n",
        "    if model is None:\n",
        "        st.error(\"No se encontró un estimador en el pickle.\")\n",
        "        st.stop()\n",
        "else:\n",
        "    model = loaded\n",
        "\n",
        "# --- Función para descargar audio completo ---\n",
        "@st.cache_data\n",
        "def download_full_audio(video_id: str) -> AudioSegment:\n",
        "    # limpia restos previos\n",
        "    for f in os.listdir():\n",
        "        if f.startswith(\"yt_audio.\"):\n",
        "            try: os.remove(f)\n",
        "            except: pass\n",
        "    opts = {'format': 'bestaudio/best', 'outtmpl': 'yt_audio.%(ext)s', 'quiet': True}\n",
        "    url = f\"https://www.youtube.com/watch?v={video_id}\"\n",
        "    with YoutubeDL(opts) as ydl:\n",
        "        info = ydl.extract_info(url, download=True)\n",
        "        ext = info.get('ext', 'm4a')\n",
        "        fname = f\"yt_audio.{ext}\"\n",
        "    audio = AudioSegment.from_file(fname)\n",
        "    try: os.remove(fname)\n",
        "    except: pass\n",
        "    return audio\n",
        "\n",
        "# --- Interfaz de usuario ---\n",
        "import librosa\n",
        "\n",
        "raw = st.sidebar.text_input(\"Pega URL o ID de YouTube\", \"\").strip()\n",
        "if raw:\n",
        "    m = re.search(r\"([A-Za-z0-9_-]{11})\", raw)\n",
        "    if not m:\n",
        "        st.error(\"❌ ID inválido. Pega URL o ID de 11 caracteres.\")\n",
        "        st.stop()\n",
        "    vid = m.group(1)\n",
        "\n",
        "    try:\n",
        "        full = download_full_audio(vid)\n",
        "        total_s = int(full.duration_seconds)\n",
        "        seg_len = min(15, total_s)\n",
        "        start = max((total_s - seg_len)//2, 0)\n",
        "        seg = full[start*1000:(start+seg_len)*1000]\n",
        "\n",
        "        # Exportar segmento a WAV temporal\n",
        "        tmp_path = 'segment.wav'\n",
        "        seg.export(tmp_path, format='wav')\n",
        "\n",
        "        # Reproducción del segmento\n",
        "        with open(tmp_path, 'rb') as f:\n",
        "            data = f.read()\n",
        "        st.subheader(f\"Audio segmento: {start}s → {start+seg_len}s\")\n",
        "        st.audio(data, format='audio/wav')\n",
        "\n",
        "        # Carga con librosa para MFCC\n",
        "        y, sr = librosa.load(tmp_path, sr=None, mono=True)\n",
        "        # Extraer MFCC (ejemplo 13 coef.)\n",
        "        mfcc = librosa.feature.mfcc(y=y, sr=sr, n_mfcc=13)\n",
        "        # Promediar cada MFCC en el tiempo\n",
        "        mfcc_mean = np.mean(mfcc, axis=1)\n",
        "        # Usar MFCC como features\n",
        "        X_feat = mfcc_mean\n",
        "\n",
        "        # Predicción\n",
        "        st.subheader(\"Predicción de Género\")\n",
        "        # Ajustar longitud al modelo\n",
        "        expected = getattr(model, 'n_features_in_', X_feat.size)\n",
        "        if X_feat.size > expected:\n",
        "            Xn_adj = X_feat[:expected]\n",
        "        else:\n",
        "            Xn_adj = np.pad(X_feat, (0, expected - X_feat.size), 'constant')\n",
        "        raw_pred = model.predict(Xn_adj.reshape(1, -1))[0]\n",
        "        label_map = {1:'Reggaeton', 2:'Salsa'}\n",
        "        gen = label_map.get(raw_pred, f\"Clase {raw_pred}\")\n",
        "        st.success(f\"**Género previsto:** {gen}\")\n",
        "\n",
        "    except Exception as e:\n",
        "        st.error(f\"🚨 Error procesando: {e}\")\n",
        "        st.text(traceback.format_exc())\n",
        "else:\n",
        "    st.info(\"👉 Ingresa URL o ID en la barra lateral.\")"
      ],
      "metadata": {
        "colab": {
          "base_uri": "https://localhost:8080/"
        },
        "id": "d7Jktl6beBZh",
        "outputId": "b6fd058e-1813-4731-ca6c-15ae2145e78b"
      },
      "execution_count": null,
      "outputs": [
        {
          "output_type": "stream",
          "name": "stderr",
          "text": [
            "2025-06-16 04:50:23.833 Thread 'MainThread': missing ScriptRunContext! This warning can be ignored when running in bare mode.\n",
            "2025-06-16 04:50:23.834 Thread 'MainThread': missing ScriptRunContext! This warning can be ignored when running in bare mode.\n",
            "2025-06-16 04:50:23.835 Thread 'MainThread': missing ScriptRunContext! This warning can be ignored when running in bare mode.\n",
            "2025-06-16 04:50:23.837 Thread 'MainThread': missing ScriptRunContext! This warning can be ignored when running in bare mode.\n",
            "2025-06-16 04:50:23.838 Thread 'MainThread': missing ScriptRunContext! This warning can be ignored when running in bare mode.\n",
            "2025-06-16 04:50:23.839 No runtime found, using MemoryCacheStorageManager\n",
            "2025-06-16 04:50:23.845 No runtime found, using MemoryCacheStorageManager\n",
            "2025-06-16 04:50:23.860 Thread 'MainThread': missing ScriptRunContext! This warning can be ignored when running in bare mode.\n",
            "2025-06-16 04:50:23.861 Thread 'MainThread': missing ScriptRunContext! This warning can be ignored when running in bare mode.\n",
            "2025-06-16 04:50:23.862 Thread 'MainThread': missing ScriptRunContext! This warning can be ignored when running in bare mode.\n",
            "2025-06-16 04:50:23.863 Thread 'MainThread': missing ScriptRunContext! This warning can be ignored when running in bare mode.\n",
            "2025-06-16 04:50:23.864 Thread 'MainThread': missing ScriptRunContext! This warning can be ignored when running in bare mode.\n",
            "2025-06-16 04:50:23.864 Thread 'MainThread': missing ScriptRunContext! This warning can be ignored when running in bare mode.\n",
            "2025-06-16 04:50:23.866 Thread 'MainThread': missing ScriptRunContext! This warning can be ignored when running in bare mode.\n",
            "2025-06-16 04:50:23.867 Thread 'MainThread': missing ScriptRunContext! This warning can be ignored when running in bare mode.\n"
          ]
        }
      ]
    },
    {
      "cell_type": "markdown",
      "source": [
        "4) Arrancar Streamlit y Cloudflared"
      ],
      "metadata": {
        "id": "-mQTlKVHeFS0"
      }
    },
    {
      "cell_type": "code",
      "source": [
        "# Mata cualquier Streamlit antiguo\n",
        "!pkill -f streamlit\n",
        "\n",
        "# Verifica errores recientes\n",
        "!tail -n 30 logs.txt || echo \"No hay logs.txt aún\"\n"
      ],
      "metadata": {
        "colab": {
          "base_uri": "https://localhost:8080/"
        },
        "id": "8IuZGY259GaZ",
        "outputId": "62b0fcbc-3ae6-4d13-efef-ad3182e4945f"
      },
      "execution_count": null,
      "outputs": [
        {
          "output_type": "stream",
          "name": "stdout",
          "text": [
            "\n",
            "Collecting usage statistics. To deactivate, set browser.gatherUsageStats to false.\n",
            "\n",
            "\n",
            "  You can now view your Streamlit app in your browser.\n",
            "\n",
            "  Local URL: http://localhost:8501\n",
            "  Network URL: http://172.28.0.12:8501\n",
            "  External URL: http://34.81.48.60:8501\n",
            "\n",
            "/usr/local/lib/python3.11/dist-packages/sklearn/base.py:440: InconsistentVersionWarning: Trying to unpickle estimator KNeighborsClassifier from version 1.6.1 when using version 1.7.0. This might lead to breaking code or invalid results. Use at your own risk. For more info please refer to:\n",
            "https://scikit-learn.org/stable/model_persistence.html#security-maintainability-limitations\n",
            "  warnings.warn(\n",
            "/usr/local/lib/python3.11/dist-packages/sklearn/base.py:440: InconsistentVersionWarning: Trying to unpickle estimator MinMaxScaler from version 1.6.1 when using version 1.7.0. This might lead to breaking code or invalid results. Use at your own risk. For more info please refer to:\n",
            "https://scikit-learn.org/stable/model_persistence.html#security-maintainability-limitations\n",
            "  warnings.warn(\n",
            "\r[download]   0.0% of    3.02MiB at  227.41KiB/s ETA 00:13\r[download]   0.1% of    3.02MiB at  559.02KiB/s ETA 00:05\r[download]   0.2% of    3.02MiB at    1.14MiB/s ETA 00:02\r[download]   0.5% of    3.02MiB at    2.11MiB/s ETA 00:01\r[download]   1.0% of    3.02MiB at  604.69KiB/s ETA 00:05\r[download]   2.0% of    3.02MiB at  626.01KiB/s ETA 00:04\r[download]   4.1% of    3.02MiB at  863.44KiB/s ETA 00:03\r[download]   8.3% of    3.02MiB at    1.26MiB/s ETA 00:02\r[download]  16.5% of    3.02MiB at    2.01MiB/s ETA 00:01\r[download]  33.1% of    3.02MiB at    3.27MiB/s ETA 00:00\r[download]  66.2% of    3.02MiB at    5.64MiB/s ETA 00:00\r[download] 100.0% of    3.02MiB at    7.85MiB/s ETA 00:00\r[download] 100% of    3.02MiB in 00:00:00 at 5.19MiB/s   \r                                                      \r\r[download]   0.0% of    5.74MiB at  230.63KiB/s ETA 00:25\r[download]   0.1% of    5.74MiB at  590.39KiB/s ETA 00:09\r[download]   0.1% of    5.74MiB at    1.22MiB/s ETA 00:04\r[download]   0.3% of    5.74MiB at    2.22MiB/s ETA 00:02\r[download]   0.5% of    5.74MiB at  663.62KiB/s ETA 00:08\r[download]   1.1% of    5.74MiB at  695.46KiB/s ETA 00:08\r[download]   2.2% of    5.74MiB at  960.73KiB/s ETA 00:05\r[download]   4.3% of    5.74MiB at    1.40MiB/s ETA 00:03\r[download]   8.7% of    5.74MiB at    2.22MiB/s ETA 00:02\r[download]  17.4% of    5.74MiB at    3.74MiB/s ETA 00:01\r[download]  34.9% of    5.74MiB at    6.43MiB/s ETA 00:00\r[download]  69.7% of    5.74MiB at   11.25MiB/s ETA 00:00\r[download] 100.0% of    5.74MiB at   14.81MiB/s ETA 00:00\r[download] 100% of    5.74MiB in 00:00:00 at 9.45MiB/s   \r                                                      \r\r[download]   0.0% of    3.87MiB at  Unknown B/s ETA Unknown\r[download]   0.1% of    3.87MiB at    1.76MiB/s ETA 00:02  \r[download]   0.2% of    3.87MiB at    3.08MiB/s ETA 00:01\r[download]   0.4% of    3.87MiB at    4.46MiB/s ETA 00:00\r[download]   0.8% of    3.87MiB at    7.33MiB/s ETA 00:00\r[download]   1.6% of    3.87MiB at    9.51MiB/s ETA 00:00\r[download]   3.2% of    3.87MiB at   11.24MiB/s ETA 00:00\r[download]   6.4% of    3.87MiB at   15.78MiB/s ETA 00:00\r[download]  12.9% of    3.87MiB at   24.14MiB/s ETA 00:00\r[download]  25.8% of    3.87MiB at   38.47MiB/s ETA 00:00\r[download]  51.7% of    3.87MiB at   66.73MiB/s ETA 00:00\r[download] 100.0% of    3.87MiB at   30.33MiB/s ETA 00:00\r[download] 100% of    3.87MiB in 00:00:00 at 21.14MiB/s  \r                                                       \r  Stopping...\n"
          ]
        }
      ]
    },
    {
      "cell_type": "code",
      "source": [
        "!wget -q https://github.com/cloudflare/cloudflared/releases/latest/download/cloudflared-linux-amd64\n",
        "!chmod +x cloudflared-linux-amd64\n",
        "!mv cloudflared-linux-amd64 /usr/local/bin/cloudflared\n",
        "\n",
        "# Ejecutar Streamlit\n",
        "!streamlit run app.py &> /content/logs.txt &  # o reemplaza app.py por tu script\n",
        "\n",
        "# Exponer el puerto 8501 con Cloudflare Tunnel\n",
        "!cloudflared tunnel --url http://localhost:8501 > /content/cloudflared.log 2>&1 &\n"
      ],
      "metadata": {
        "id": "Ig_58hIaBysP"
      },
      "execution_count": null,
      "outputs": []
    },
    {
      "cell_type": "code",
      "source": [
        "import time, re, os\n",
        "\n",
        "time.sleep(5)\n",
        "url = None\n",
        "with open('/content/cloudflared.log') as f:\n",
        "    for line in f:\n",
        "        # Busca cualquier enlace a trycloudflare.com\n",
        "        m = re.search(r'https://[\\\\w\\\\.-]+\\\\.trycloudflare\\\\.com', line)\n",
        "        if m:\n",
        "            url = m.group(0)\n",
        "            break\n",
        "\n",
        "if url:\n",
        "    print(f\"✅ Tu app está en:\\n{url}\")\n",
        "else:\n",
        "    print(\"⚠️ No encontré la URL. Revisa cloudflared.log:\\n\")\n",
        "    print(open('/content/cloudflared.log').read())\n",
        "\n",
        "res = input(\"Escribe '1' para detener Streamlit: \")\n",
        "if res.strip() == \"1\":\n",
        "    os.system(\"pkill streamlit\")\n",
        "    print(\"🔴 Streamlit detenido.\")\n",
        "\n"
      ],
      "metadata": {
        "colab": {
          "base_uri": "https://localhost:8080/"
        },
        "id": "XRmLbN4xB1yr",
        "outputId": "3db5b25c-6fbb-4025-f3fd-a142d7a91cf0"
      },
      "execution_count": null,
      "outputs": [
        {
          "output_type": "stream",
          "name": "stdout",
          "text": [
            "⚠️ No encontré la URL. Revisa cloudflared.log:\n",
            "\n",
            "2025-06-16T04:50:27Z INF Thank you for trying Cloudflare Tunnel. Doing so, without a Cloudflare account, is a quick way to experiment and try it out. However, be aware that these account-less Tunnels have no uptime guarantee, are subject to the Cloudflare Online Services Terms of Use (https://www.cloudflare.com/website-terms/), and Cloudflare reserves the right to investigate your use of Tunnels for violations of such terms. If you intend to use Tunnels in production you should use a pre-created named tunnel by following: https://developers.cloudflare.com/cloudflare-one/connections/connect-apps\n",
            "2025-06-16T04:50:27Z INF Requesting new quick Tunnel on trycloudflare.com...\n",
            "2025-06-16T04:50:31Z INF +--------------------------------------------------------------------------------------------+\n",
            "2025-06-16T04:50:31Z INF |  Your quick Tunnel has been created! Visit it at (it may take some time to be reachable):  |\n",
            "2025-06-16T04:50:31Z INF |  https://maintains-analyzed-edited-shelf.trycloudflare.com                                 |\n",
            "2025-06-16T04:50:31Z INF +--------------------------------------------------------------------------------------------+\n",
            "2025-06-16T04:50:31Z INF Cannot determine default configuration path. No file [config.yml config.yaml] in [~/.cloudflared ~/.cloudflare-warp ~/cloudflare-warp /etc/cloudflared /usr/local/etc/cloudflared]\n",
            "2025-06-16T04:50:31Z INF Version 2025.6.0 (Checksum 173276e3370f366493fb818ebe33cca23a9601d721ca3c03085b3f838eaf3ca9)\n",
            "2025-06-16T04:50:31Z INF GOOS: linux, GOVersion: go1.24.2, GoArch: amd64\n",
            "2025-06-16T04:50:31Z INF Settings: map[ha-connections:1 protocol:quic url:http://localhost:8501]\n",
            "2025-06-16T04:50:31Z INF Autoupdate frequency is set autoupdateFreq=86400000\n",
            "2025-06-16T04:50:31Z INF Generated Connector ID: afe20fad-a922-4959-b1db-e0c3f2854c68\n",
            "2025-06-16T04:50:31Z INF Initial protocol quic\n",
            "2025-06-16T04:50:31Z INF ICMP proxy will use 172.28.0.12 as source for IPv4\n",
            "2025-06-16T04:50:31Z INF ICMP proxy will use :: as source for IPv6\n",
            "2025-06-16T04:50:31Z INF ICMP proxy will use 172.28.0.12 as source for IPv4\n",
            "2025-06-16T04:50:31Z INF ICMP proxy will use :: as source for IPv6\n",
            "2025-06-16T04:50:31Z INF Starting metrics server on 127.0.0.1:20242/metrics\n",
            "2025-06-16T04:50:31Z INF Tunnel connection curve preferences: [X25519MLKEM768 CurveID(25497) CurveP256] connIndex=0 event=0 ip=198.41.200.13\n",
            "2025/06/16 04:50:31 failed to sufficiently increase receive buffer size (was: 208 kiB, wanted: 7168 kiB, got: 416 kiB). See https://github.com/quic-go/quic-go/wiki/UDP-Buffer-Sizes for details.\n",
            "\n",
            "Escribe '1' para detener Streamlit: 1\n",
            "🔴 Streamlit detenido.\n"
          ]
        }
      ]
    }
  ]
}