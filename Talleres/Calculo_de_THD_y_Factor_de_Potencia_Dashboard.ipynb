{
  "nbformat": 4,
  "nbformat_minor": 0,
  "metadata": {
    "colab": {
      "provenance": [],
      "authorship_tag": "ABX9TyPDRADuwir8uQYSJWiaEA/M",
      "include_colab_link": true
    },
    "kernelspec": {
      "name": "python3",
      "display_name": "Python 3"
    },
    "language_info": {
      "name": "python"
    }
  },
  "cells": [
    {
      "cell_type": "markdown",
      "metadata": {
        "id": "view-in-github",
        "colab_type": "text"
      },
      "source": [
        "<a href=\"https://colab.research.google.com/github/orodriguezq/orodriguezq-Senales_Y_Sistemas/blob/main/Talleres/Calculo_de_THD_y_Factor_de_Potencia_Dashboard.ipynb\" target=\"_parent\"><img src=\"https://colab.research.google.com/assets/colab-badge.svg\" alt=\"Open In Colab\"/></a>"
      ]
    },
    {
      "cell_type": "markdown",
      "source": [
        "Instalar dependencias"
      ],
      "metadata": {
        "id": "sOgeoHcIaVyR"
      }
    },
    {
      "cell_type": "code",
      "execution_count": 1,
      "metadata": {
        "colab": {
          "base_uri": "https://localhost:8080/"
        },
        "id": "3Z3Rzm2kaUid",
        "outputId": "c45ba4ec-7ae2-4a9b-f818-6ff0c3d62c79"
      },
      "outputs": [
        {
          "output_type": "stream",
          "name": "stdout",
          "text": [
            "\u001b[2K     \u001b[90m━━━━━━━━━━━━━━━━━━━━━━━━━━━━━━━━━━━━━━━━\u001b[0m \u001b[32m44.3/44.3 kB\u001b[0m \u001b[31m1.3 MB/s\u001b[0m eta \u001b[36m0:00:00\u001b[0m\n",
            "\u001b[2K   \u001b[90m━━━━━━━━━━━━━━━━━━━━━━━━━━━━━━━━━━━━━━━━\u001b[0m \u001b[32m9.9/9.9 MB\u001b[0m \u001b[31m29.9 MB/s\u001b[0m eta \u001b[36m0:00:00\u001b[0m\n",
            "\u001b[2K   \u001b[90m━━━━━━━━━━━━━━━━━━━━━━━━━━━━━━━━━━━━━━━━\u001b[0m \u001b[32m6.9/6.9 MB\u001b[0m \u001b[31m29.4 MB/s\u001b[0m eta \u001b[36m0:00:00\u001b[0m\n",
            "\u001b[2K   \u001b[90m━━━━━━━━━━━━━━━━━━━━━━━━━━━━━━━━━━━━━━━━\u001b[0m \u001b[32m79.1/79.1 kB\u001b[0m \u001b[31m4.2 MB/s\u001b[0m eta \u001b[36m0:00:00\u001b[0m\n",
            "\u001b[?25h"
          ]
        }
      ],
      "source": [
        "!pip install -q streamlit numpy scipy pandas matplotlib\n"
      ]
    },
    {
      "cell_type": "markdown",
      "source": [
        "Crear el script am_thd_dashboard.py"
      ],
      "metadata": {
        "id": "UgBvS--IaYn4"
      }
    },
    {
      "cell_type": "code",
      "source": [
        "%%bash\n",
        "cat > am_thd_dashboard.py << 'EOF'\n",
        "import streamlit as st\n",
        "import numpy as np\n",
        "import pandas as pd\n",
        "import matplotlib.pyplot as plt\n",
        "\n",
        "# --- Funciones auxiliares ---\n",
        "def compute_thd(signal, fs, f0, nharmonics=10):\n",
        "    N = len(signal)\n",
        "    Y = np.fft.fft(signal) / N\n",
        "    freqs = np.fft.fftfreq(N, 1/fs)\n",
        "    amps = {}\n",
        "    for n in range(1, nharmonics+1):\n",
        "        idx = np.argmin(np.abs(freqs - n*f0))\n",
        "        amps[n] = 2 * np.abs(Y[idx])\n",
        "    A1 = amps[1]\n",
        "    harm_sq = sum(amps[n]**2 for n in range(2, nharmonics+1))\n",
        "    THD = np.sqrt(harm_sq) / A1\n",
        "    PF_distortion = 1 / np.sqrt(1 + THD**2)\n",
        "    return THD, PF_distortion, amps\n",
        "\n",
        "def plot_time(i_t, t, title):\n",
        "    fig, ax = plt.subplots(figsize=(8,2))\n",
        "    ax.plot(t, i_t, label='i(t)')\n",
        "    ax.set(xlabel='t [s]', ylabel='i(t)', title=title)\n",
        "    ax.grid(True)\n",
        "    st.pyplot(fig)\n",
        "\n",
        "def plot_spectrum(amps1, amps2, title, nharmonics):\n",
        "    n = np.arange(1, nharmonics+1)\n",
        "    A1 = [amps1[k] for k in n]\n",
        "    A2 = [amps2[k] for k in n]\n",
        "    fig, ax = plt.subplots(figsize=(8,3))\n",
        "    ax.stem(n, A1,            basefmt=\" \", label='Resistiva')\n",
        "    ax.stem(n, A2, linefmt='C1-', markerfmt='C1o', basefmt=\" \", label='RC seleccionada')\n",
        "    ax.set(xlabel='Armónico n', ylabel='Amplitud', title=title)\n",
        "    ax.legend(); ax.grid(True)\n",
        "    st.pyplot(fig)\n",
        "\n",
        "# --- App config ---\n",
        "st.set_page_config(page_title=\"THD & PF – Carga RC\", page_icon=\"⚡️\", layout=\"wide\")\n",
        "st.title(\"Cálculo de THD y Factor de Potencia\")\n",
        "\n",
        "# --- Sidebar inputs ---\n",
        "st.sidebar.header(\"Parámetros de la fuente\")\n",
        "f0  = st.sidebar.number_input(\"Frecuencia fundamental f0 (Hz)\",    min_value=1.0,   value=50.0,    step=1.0)\n",
        "Np  = st.sidebar.number_input(\"No. de períodos\",                   min_value=1,     value=5,       step=1)\n",
        "spp = st.sidebar.number_input(\"Muestras por período\",              min_value=100,   value=2048,    step=128)\n",
        "nh  = st.sidebar.number_input(\"Número de armónicos a considerar\",  min_value=1,     value=10,      step=1)\n",
        "\n",
        "st.sidebar.header(\"Parámetros de carga RC\")\n",
        "R  = st.sidebar.number_input(\"Resistencia R (Ω)\",                  min_value=1.0,   value=100.0,   step=1.0)\n",
        "C_mf = st.sidebar.text_input(\"Capacitancias C (µF), separadas por coma\", \"10,100,1000\")\n",
        "# convertimos a Faradios\n",
        "C_list = []\n",
        "for c in C_mf.split(','):\n",
        "    try:\n",
        "        C_list.append(float(c.strip())*1e-6)\n",
        "    except:\n",
        "        pass\n",
        "sel_C = st.sidebar.selectbox(\"Selecciona C (µF) para comparar espectro\",\n",
        "                             options=[c*1e6 for c in C_list],\n",
        "                             format_func=lambda x: f\"{x:.1f} µF\")\n",
        "C_sel = sel_C * 1e-6\n",
        "\n",
        "# --- Time vector ---\n",
        "w0 = 2 * np.pi * f0\n",
        "T0 = 1 / f0\n",
        "fs = spp * f0\n",
        "t  = np.linspace(0, Np * T0, int(Np*spp), endpoint=False)\n",
        "\n",
        "# --- Señal rectificada resistiva ---\n",
        "i_rect = np.abs(np.sin(w0 * t))\n",
        "\n",
        "st.header(\"1) Señal rectificada (carga resistiva)\")\n",
        "plot_time(i_rect, t, \"i_rect(t) – |sin(ω₀t)|\")\n",
        "\n",
        "# --- Cálculo THD / PF resistiva ---\n",
        "THD_res, PF_res, amps_res = compute_thd(i_rect, fs, f0, nharmonics=nh)\n",
        "st.markdown(f\"**Resistiva → THD = {THD_res:.4f}, PF (distortion) = {PF_res:.4f}**\")\n",
        "\n",
        "# --- Cálculo para cada C en lista ---\n",
        "results = []\n",
        "for C in C_list:\n",
        "    H = lambda n: 1/np.sqrt(1 + (n * w0 * R * C)**2)\n",
        "    amps_rc = {n: amps_res[n] * H(n) for n in amps_res}\n",
        "    A1_rc = amps_rc[1]\n",
        "    harm_sq_rc = sum(amps_rc[n]**2 for n in range(2, nh+1))\n",
        "    THD_rc = np.sqrt(harm_sq_rc) / A1_rc\n",
        "    PF_rc  = 1 / np.sqrt(1 + THD_rc**2)\n",
        "    results.append({\n",
        "        'C [µF]': C*1e6,\n",
        "        'THD':     THD_rc,\n",
        "        'PF_dist': PF_rc\n",
        "    })\n",
        "\n",
        "df = pd.DataFrame(results)\n",
        "st.header(\"2) THD y PF para diferentes C\")\n",
        "st.dataframe(df.style.format({'C [µF]':'{:.1f}','THD':'{:.4f}','PF_dist':'{:.4f}'}), height=200)\n",
        "\n",
        "# --- Espectro comparativo ---\n",
        "st.header(f\"3) Espectro de armónicos (hasta n={nh})\")\n",
        "# espectros\n",
        "N = len(i_rect)\n",
        "Y = np.fft.fft(i_rect)/N\n",
        "freqs = np.fft.fftfreq(N, 1/fs)\n",
        "# amps resistiva\n",
        "amps_rect = {n: 2*abs(Y[np.argmin(abs(freqs - n*f0))]) for n in range(1, nh+1)}\n",
        "# amps RC seleccionada\n",
        "Hsel = lambda n: 1/np.sqrt(1 + (n * w0 * R * C_sel)**2)\n",
        "amps_filt = {n: amps_rect[n]*Hsel(n) for n in amps_rect}\n",
        "plot_spectrum(amps_rect, amps_filt, f\"Armónicos vs RC {sel_C:.1f} µF\", nharmonics=nh)\n",
        "EOF\n"
      ],
      "metadata": {
        "id": "h7Ta4mSvaavh"
      },
      "execution_count": 2,
      "outputs": []
    },
    {
      "cell_type": "markdown",
      "source": [
        " Arranca Streamlit y el túnel"
      ],
      "metadata": {
        "id": "vd7UfiXMadjn"
      }
    },
    {
      "cell_type": "code",
      "source": [
        "!pkill -f streamlit || true\n",
        "!tail -n 30 /content/logs.txt || echo \"No hay logs aún\"\n"
      ],
      "metadata": {
        "colab": {
          "base_uri": "https://localhost:8080/"
        },
        "id": "_5vorU1GbX_C",
        "outputId": "d7b5ef57-a825-4c15-f7ab-0ab716677c53"
      },
      "execution_count": 9,
      "outputs": [
        {
          "output_type": "stream",
          "name": "stdout",
          "text": [
            "^C\n",
            "Usage: streamlit run [OPTIONS] TARGET [ARGS]...\n",
            "Try 'streamlit run --help' for help.\n",
            "\n",
            "Error: Invalid value: File does not exist: app.py\n"
          ]
        }
      ]
    },
    {
      "cell_type": "code",
      "source": [
        "%%bash\n",
        "# Descarga y prepara Cloudflared\n",
        "wget -q https://github.com/cloudflare/cloudflared/releases/latest/download/cloudflared-linux-amd64\n",
        "chmod +x cloudflared-linux-amd64\n",
        "mv cloudflared-linux-amd64 /usr/local/bin/cloudflared\n",
        "\n",
        "# Arranca tu dashboard (usa el nombre correcto)\n",
        "nohup streamlit run am_thd_dashboard.py --server.address=0.0.0.0 --server.port=8501 &> /content/logs.txt &\n",
        "\n",
        "# Inicia el túnel\n",
        "nohup cloudflared tunnel --url http://localhost:8501 > /content/cloudflared.log 2>&1 &\n"
      ],
      "metadata": {
        "id": "cE8cs631alav"
      },
      "execution_count": 12,
      "outputs": []
    },
    {
      "cell_type": "markdown",
      "source": [
        "Extrae tu URL pública"
      ],
      "metadata": {
        "id": "cGiWjpTFanF_"
      }
    },
    {
      "cell_type": "code",
      "source": [
        "import time, re, os\n",
        "\n",
        "# Espera a que Cloudflared emita la URL\n",
        "time.sleep(5)\n",
        "\n",
        "url = None\n",
        "with open('/content/cloudflared.log') as f:\n",
        "    for line in f:\n",
        "        # Busca cualquier enlace .trycloudflare.com\n",
        "        m = re.search(r'https://[\\w\\.-]+\\.trycloudflare\\.com', line)\n",
        "        if m:\n",
        "            url = m.group(0)\n",
        "            break\n",
        "\n",
        "if url:\n",
        "    print(f\"✅ Tu aplicación está disponible en:\\n{url}\")\n",
        "else:\n",
        "    print(\"⚠️ No encontré la URL. Revisa cloudflared.log:\\n\")\n",
        "    print(open('/content/cloudflared.log').read())\n",
        "\n",
        "# Opción para detener el servidor cuando termines\n",
        "res = input(\"Escribe '1' para detener Streamlit: \")\n",
        "if res.strip() == \"1\":\n",
        "    os.system(\"pkill streamlit\")\n",
        "    print(\"🔴 Streamlit detenido.\")\n"
      ],
      "metadata": {
        "colab": {
          "base_uri": "https://localhost:8080/"
        },
        "id": "7djqkLWGapJQ",
        "outputId": "3acf8110-3f01-4796-c0f9-3fb1fa761a5f"
      },
      "execution_count": 13,
      "outputs": [
        {
          "output_type": "stream",
          "name": "stdout",
          "text": [
            "✅ Tu aplicación está disponible en:\n",
            "https://pf-slowly-hundred-elements.trycloudflare.com\n",
            "Escribe '1' para detener Streamlit: 1\n",
            "🔴 Streamlit detenido.\n"
          ]
        }
      ]
    }
  ]
}