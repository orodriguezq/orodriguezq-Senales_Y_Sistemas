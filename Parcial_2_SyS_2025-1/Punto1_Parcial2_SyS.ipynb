{
  "nbformat": 4,
  "nbformat_minor": 0,
  "metadata": {
    "colab": {
      "provenance": [],
      "authorship_tag": "ABX9TyPwHJe0Bl/JfaqPloCO5ixl",
      "include_colab_link": true
    },
    "kernelspec": {
      "name": "python3",
      "display_name": "Python 3"
    },
    "language_info": {
      "name": "python"
    }
  },
  "cells": [
    {
      "cell_type": "markdown",
      "metadata": {
        "id": "view-in-github",
        "colab_type": "text"
      },
      "source": [
        "<a href=\"https://colab.research.google.com/github/orodriguezq/orodriguezq-Senales_Y_Sistemas/blob/main/Parcial_2_SyS_2025-1/Punto1_Parcial2_SyS.ipynb\" target=\"_parent\"><img src=\"https://colab.research.google.com/assets/colab-badge.svg\" alt=\"Open In Colab\"/></a>"
      ]
    },
    {
      "cell_type": "markdown",
      "source": [
        "# 📊 Dashboard Interactivo para Sistemas de Segundo Orden\n",
        "\n",
        "**Punto 1 Parcial 2 SyS**  \n",
        "**Omar Andrés Rodriguez Quiceno**  \n",
        "\n",
        "---\n",
        "\n",
        "Este notebook está diseñado para estudiar y comparar dos modelos equivalentes de sistemas de segundo orden:\n",
        "\n",
        "1. **Sistema mecánico masa–resorte–amortiguador**  \n",
        "2. **Circuito eléctrico R–L–C**\n",
        "\n",
        "A través de una aplicación interactiva desarrollada con **Streamlit**, el usuario podrá:\n",
        "\n",
        "- Seleccionar el tipo de respuesta del sistema:\n",
        "  - Subamortiguada  \n",
        "  - Sobreamortiguada  \n",
        "  - Critica  \n",
        "  - Inestable  \n",
        "- Ajustar dinámicamente:\n",
        "  - El factor de amortiguamiento \\(\\zeta\\)  \n",
        "  - La frecuencia natural \\(\\omega_n\\)  \n",
        "- Visualizar en **lazo abierto** y **lazo cerrado**:\n",
        "  - Diagrama de Bode  \n",
        "  - Diagrama de polos y ceros  \n",
        "  - Respuestas al impulso, escalón y rampa  \n",
        "  - Parámetros temporales:\n",
        "    - Tiempo de levantamiento  \n",
        "    - Sobreimpulso máximo  \n",
        "    - Tiempo de sobreimpulso  \n",
        "    - Tiempo de establecimiento  \n",
        "  - Valores calculados de los componentes de cada modelo:\n",
        "    - Masa \\(m\\), resorte \\(k\\) y amortiguador \\(c\\)  \n",
        "    - Inductancia \\(L\\), capacitancia \\(C\\) y resistencia \\(R\\)  \n",
        "\n",
        "---\n",
        "\n",
        "\n"
      ],
      "metadata": {
        "id": "pslOLW-LH5Cb"
      }
    },
    {
      "cell_type": "markdown",
      "source": [
        "## Instalación de Dependencias y Configuración del Entorno\n",
        "\n",
        "En este bloque configuramos todo lo necesario para ejecutar nuestra aplicación Streamlit en Google Colab:\n",
        "\n",
        "1. Instalamos **Streamlit**, la librería principal para crear el dashboard.  \n",
        "2. Verificamos la ruta y versión de Streamlit para asegurarnos de que la instalación fue correcta.  \n",
        "3. Instalamos **Librosa**, necesaria si más adelante queremos procesar audio.  \n",
        "4. Descargamos y configuramos **Cloudflared**, que nos permitirá exponer nuestro servidor local de Streamlit a Internet.\n"
      ],
      "metadata": {
        "id": "MmI32BdOIw4T"
      }
    },
    {
      "cell_type": "code",
      "source": [
        "# ── Instalación de Streamlit ───────────────────────────────────────────────\n",
        "!pip install streamlit              # Instala Streamlit para crear la interfaz web\n",
        "!which streamlit                    # Muestra la ruta donde se ha instalado el ejecutable\n",
        "!streamlit --version                # Comprueba la versión de Streamlit instalada\n",
        "\n",
        "# ── Instalación de Librosa ────────────────────────────────────────────────\n",
        "!pip install librosa --quiet        # Instala Librosa para procesamiento de audio (modo silencioso)\n",
        "\n",
        "# ── Descarga y configuración de Cloudflared ─────────────────────────────────\n",
        "!wget -q https://github.com/cloudflare/cloudflared/releases/latest/download/cloudflared-linux-amd64 -O cloudflared\n",
        "                                     # Descarga la última versión de cloudflared para Linux\n",
        "!chmod +x cloudflared                # Asigna permisos de ejecución al binario descargado\n",
        "!mv cloudflared /usr/local/bin/      # Mueve el binario a una ubicación accesible globalmente\n"
      ],
      "metadata": {
        "colab": {
          "base_uri": "https://localhost:8080/"
        },
        "id": "1qBxCEHLBvOp",
        "outputId": "26af12e0-a17f-4cfb-8b12-2e61ff7686cb"
      },
      "execution_count": null,
      "outputs": [
        {
          "output_type": "stream",
          "name": "stdout",
          "text": [
            "Requirement already satisfied: streamlit in /usr/local/lib/python3.11/dist-packages (1.46.1)\n",
            "Requirement already satisfied: altair<6,>=4.0 in /usr/local/lib/python3.11/dist-packages (from streamlit) (5.5.0)\n",
            "Requirement already satisfied: blinker<2,>=1.5.0 in /usr/local/lib/python3.11/dist-packages (from streamlit) (1.9.0)\n",
            "Requirement already satisfied: cachetools<7,>=4.0 in /usr/local/lib/python3.11/dist-packages (from streamlit) (5.5.2)\n",
            "Requirement already satisfied: click<9,>=7.0 in /usr/local/lib/python3.11/dist-packages (from streamlit) (8.2.1)\n",
            "Requirement already satisfied: numpy<3,>=1.23 in /usr/local/lib/python3.11/dist-packages (from streamlit) (2.0.2)\n",
            "Requirement already satisfied: packaging<26,>=20 in /usr/local/lib/python3.11/dist-packages (from streamlit) (24.2)\n",
            "Requirement already satisfied: pandas<3,>=1.4.0 in /usr/local/lib/python3.11/dist-packages (from streamlit) (2.2.2)\n",
            "Requirement already satisfied: pillow<12,>=7.1.0 in /usr/local/lib/python3.11/dist-packages (from streamlit) (11.2.1)\n",
            "Requirement already satisfied: protobuf<7,>=3.20 in /usr/local/lib/python3.11/dist-packages (from streamlit) (5.29.5)\n",
            "Requirement already satisfied: pyarrow>=7.0 in /usr/local/lib/python3.11/dist-packages (from streamlit) (18.1.0)\n",
            "Requirement already satisfied: requests<3,>=2.27 in /usr/local/lib/python3.11/dist-packages (from streamlit) (2.32.3)\n",
            "Requirement already satisfied: tenacity<10,>=8.1.0 in /usr/local/lib/python3.11/dist-packages (from streamlit) (8.5.0)\n",
            "Requirement already satisfied: toml<2,>=0.10.1 in /usr/local/lib/python3.11/dist-packages (from streamlit) (0.10.2)\n",
            "Requirement already satisfied: typing-extensions<5,>=4.4.0 in /usr/local/lib/python3.11/dist-packages (from streamlit) (4.14.0)\n",
            "Requirement already satisfied: watchdog<7,>=2.1.5 in /usr/local/lib/python3.11/dist-packages (from streamlit) (6.0.0)\n",
            "Requirement already satisfied: gitpython!=3.1.19,<4,>=3.0.7 in /usr/local/lib/python3.11/dist-packages (from streamlit) (3.1.44)\n",
            "Requirement already satisfied: pydeck<1,>=0.8.0b4 in /usr/local/lib/python3.11/dist-packages (from streamlit) (0.9.1)\n",
            "Requirement already satisfied: tornado!=6.5.0,<7,>=6.0.3 in /usr/local/lib/python3.11/dist-packages (from streamlit) (6.4.2)\n",
            "Requirement already satisfied: jinja2 in /usr/local/lib/python3.11/dist-packages (from altair<6,>=4.0->streamlit) (3.1.6)\n",
            "Requirement already satisfied: jsonschema>=3.0 in /usr/local/lib/python3.11/dist-packages (from altair<6,>=4.0->streamlit) (4.24.0)\n",
            "Requirement already satisfied: narwhals>=1.14.2 in /usr/local/lib/python3.11/dist-packages (from altair<6,>=4.0->streamlit) (1.45.0)\n",
            "Requirement already satisfied: gitdb<5,>=4.0.1 in /usr/local/lib/python3.11/dist-packages (from gitpython!=3.1.19,<4,>=3.0.7->streamlit) (4.0.12)\n",
            "Requirement already satisfied: python-dateutil>=2.8.2 in /usr/local/lib/python3.11/dist-packages (from pandas<3,>=1.4.0->streamlit) (2.9.0.post0)\n",
            "Requirement already satisfied: pytz>=2020.1 in /usr/local/lib/python3.11/dist-packages (from pandas<3,>=1.4.0->streamlit) (2025.2)\n",
            "Requirement already satisfied: tzdata>=2022.7 in /usr/local/lib/python3.11/dist-packages (from pandas<3,>=1.4.0->streamlit) (2025.2)\n",
            "Requirement already satisfied: charset-normalizer<4,>=2 in /usr/local/lib/python3.11/dist-packages (from requests<3,>=2.27->streamlit) (3.4.2)\n",
            "Requirement already satisfied: idna<4,>=2.5 in /usr/local/lib/python3.11/dist-packages (from requests<3,>=2.27->streamlit) (3.10)\n",
            "Requirement already satisfied: urllib3<3,>=1.21.1 in /usr/local/lib/python3.11/dist-packages (from requests<3,>=2.27->streamlit) (2.4.0)\n",
            "Requirement already satisfied: certifi>=2017.4.17 in /usr/local/lib/python3.11/dist-packages (from requests<3,>=2.27->streamlit) (2025.6.15)\n",
            "Requirement already satisfied: smmap<6,>=3.0.1 in /usr/local/lib/python3.11/dist-packages (from gitdb<5,>=4.0.1->gitpython!=3.1.19,<4,>=3.0.7->streamlit) (5.0.2)\n",
            "Requirement already satisfied: MarkupSafe>=2.0 in /usr/local/lib/python3.11/dist-packages (from jinja2->altair<6,>=4.0->streamlit) (3.0.2)\n",
            "Requirement already satisfied: attrs>=22.2.0 in /usr/local/lib/python3.11/dist-packages (from jsonschema>=3.0->altair<6,>=4.0->streamlit) (25.3.0)\n",
            "Requirement already satisfied: jsonschema-specifications>=2023.03.6 in /usr/local/lib/python3.11/dist-packages (from jsonschema>=3.0->altair<6,>=4.0->streamlit) (2025.4.1)\n",
            "Requirement already satisfied: referencing>=0.28.4 in /usr/local/lib/python3.11/dist-packages (from jsonschema>=3.0->altair<6,>=4.0->streamlit) (0.36.2)\n",
            "Requirement already satisfied: rpds-py>=0.7.1 in /usr/local/lib/python3.11/dist-packages (from jsonschema>=3.0->altair<6,>=4.0->streamlit) (0.26.0)\n",
            "Requirement already satisfied: six>=1.5 in /usr/local/lib/python3.11/dist-packages (from python-dateutil>=2.8.2->pandas<3,>=1.4.0->streamlit) (1.17.0)\n",
            "/usr/local/bin/streamlit\n",
            "Streamlit, version 1.46.1\n"
          ]
        }
      ]
    },
    {
      "cell_type": "markdown",
      "source": [],
      "metadata": {
        "id": "1BGC7BKFImkF"
      }
    },
    {
      "cell_type": "markdown",
      "source": [
        "## Creación del Directorio de Páginas\n",
        "\n",
        "En este bloque verificamos la existencia de la carpeta `pages/`—donde almacenaremos cada una de las subpáginas de la aplicación Streamlit—y la creamos si no está presente. Esto previene errores al guardar los archivos generados para cada sección del dashboard.\n"
      ],
      "metadata": {
        "id": "k2gGu58PI8rT"
      }
    },
    {
      "cell_type": "code",
      "source": [
        "import os  # Módulo para operaciones con el sistema de archivos\n",
        "\n",
        "# ── Creación del directorio 'pages' si no existe ──────────────────────────\n",
        "os.makedirs(\"pages\", exist_ok=True)  # exist_ok=True evita excepción si ya existe\n",
        "\n",
        "print(\"✅ Carpeta 'pages/' lista.\")  # Mensaje de confirmación para el usuario\n"
      ],
      "metadata": {
        "colab": {
          "base_uri": "https://localhost:8080/"
        },
        "id": "2VEkvz3fSATt",
        "outputId": "aac7de51-84c7-432f-b92c-054a68bffdf8"
      },
      "execution_count": null,
      "outputs": [
        {
          "output_type": "stream",
          "name": "stdout",
          "text": [
            "✅ Carpeta 'pages/' lista.\n"
          ]
        }
      ]
    },
    {
      "cell_type": "markdown",
      "source": [
        "## Script Principal: `0_📊_Simulacion_Sistemas.py`\n",
        "\n",
        "En este bloque creamos el archivo que inicia la aplicación Streamlit, definiendo tanto la **configuración** de la página como la **estructura inicial** del dashboard. Aquí se establecen:\n",
        "\n",
        "- El título y el ícono de la aplicación.  \n",
        "- Un mensaje de bienvenida en la barra lateral.  \n",
        "- Una descripción general de las funcionalidades principales del panel interactivo.  \n"
      ],
      "metadata": {
        "id": "JyzsPhgeJYHJ"
      }
    },
    {
      "cell_type": "code",
      "source": [
        "%%writefile 0_📊_Simulacion_Sistemas.py\n",
        "import streamlit as st\n",
        "\n",
        "# ── Configuración de la página ────────────────────────────────────────────\n",
        "st.set_page_config(\n",
        "    page_title=\"Simulación de Sistemas\",\n",
        "    page_icon=\"📊\",\n",
        ")\n",
        "\n",
        "# ── Título principal y bienvenida ────────────────────────────────────────\n",
        "st.write(\"# 📊 Sistemas de Segundo Orden\")\n",
        "st.sidebar.success(\"Elige una simulación en el menú lateral.\")\n",
        "\n",
        "# ── Introducción y descripción del dashboard ──────────────────────────────\n",
        "st.markdown(\n",
        "    \"\"\"\n",
        "    ##\n",
        "    Este panel interactivo forma parte del segundo parcial de Señales y Sistemas. Su propósito es brindar una **visualización intuitiva** de la dinámica de dos modelos de segundo orden:\n",
        "\n",
        "    ### Funcionalidades principales\n",
        "\n",
        "    - **Elegir el tipo de comportamiento**: subamortiguado, sobreamortiguado, críticamente amortiguado o inestable.\n",
        "    - **Ajustar parámetros clave**: el amortiguamiento (ζ) y la frecuencia natural (ωₙ).\n",
        "    - **Comparar modelos**: ver tanto el sistema mecánico (masa–resorte–amortiguador) como su equivalente eléctrico (R–L–C).\n",
        "    - **Visualizar gráficos clave**:\n",
        "        - Diagramas de Bode.\n",
        "        - Polos y ceros.\n",
        "        - Respuestas al impulso, escalón y rampa.\n",
        "    - **Analizar parámetros temporales**: tiempo de subida, sobreimpulso, pico y establecimiento.\n",
        "    - **Obtener valores calculados** de los componentes (m, c, k) y (L, R, C).\n",
        "    \"\"\"\n",
        ")\n"
      ],
      "metadata": {
        "colab": {
          "base_uri": "https://localhost:8080/"
        },
        "id": "P0JXxpjDCvip",
        "outputId": "7107d229-e24f-45db-ca53-37bf3d8e1207"
      },
      "execution_count": null,
      "outputs": [
        {
          "output_type": "stream",
          "name": "stdout",
          "text": [
            "Overwriting 0_📊_Simulacion_Sistemas.py\n"
          ]
        }
      ]
    },
    {
      "cell_type": "markdown",
      "source": [
        "## Página de Simulación: Sistema Masa–Resorte–Amortiguador\n",
        "\n",
        "En esta sección definimos la pestaña dedicada al modelo mecánico y su equivalente eléctrico. El usuario podrá:\n",
        "\n",
        "- **Elegir el tipo de comportamiento** del sistema:  \n",
        "  - Subamortiguado  \n",
        "  - Sobreamortiguado  \n",
        "  - Críticamente amortiguado  \n",
        "  - Inestable  \n",
        "- **Ajustar** mediante sliders:  \n",
        "  - El factor de amortiguamiento \\(\\zeta\\)  \n",
        "  - La frecuencia natural \\(\\omega_n\\)  \n",
        "- **Visualizar** en lazo abierto:  \n",
        "  - Polos y ceros  \n",
        "  - Parámetros físicos \\(m, c, k\\) y equivalentes eléctricos \\(L, R, C\\)  \n",
        "  - Respuestas al impulso, escalón y rampa  \n",
        "  - Diagrama de Bode  \n",
        "- **Obtener** lazo cerrado automáticamente y ver:  \n",
        "  - Polos del sistema en lazo cerrado  \n",
        "  - Respuestas temporales (impulso, escalón, rampa)  \n",
        "  - Parámetros temporales (\\(M_p\\), \\(T_r\\), \\(T_p\\), \\(T_s\\)) si es subamortiguado  \n",
        "\n",
        "Cada paso está comentado para explicar su propósito en la generación del dashboard interactivo.\n"
      ],
      "metadata": {
        "id": "2ETRzx6YJyAy"
      }
    },
    {
      "cell_type": "code",
      "source": [
        "%%writefile pages/1_🔧_Sistema_Masa_Resorte.py\n",
        "import streamlit as st\n",
        "import numpy as np\n",
        "import matplotlib.pyplot as plt\n",
        "from scipy import signal\n",
        "\n",
        "# ── Configuración de la página ────────────────────────────────────────────\n",
        "st.set_page_config(\n",
        "    page_title=\"Sistema Masa-Resorte-Amortiguador\",\n",
        "    layout=\"wide\"\n",
        ")\n",
        "\n",
        "# ── Título de la pestaña ──────────────────────────────────────────────────\n",
        "st.title(\"🔧 Sistema Masa-Resorte-Amortiguador y Circuito RLC\")\n",
        "\n",
        "# ── Selección del tipo de sistema ────────────────────────────────────────\n",
        "tipo = st.selectbox(\n",
        "    \"Tipo de sistema\",\n",
        "    [\"Subamortiguado\", \"Sobreamortiguado\", \"Crítico\", \"Inestable\"]\n",
        ")\n",
        "\n",
        "# ── Ajuste de parámetros dinámicos ───────────────────────────────────────\n",
        "zeta = st.slider(\"Amortiguamiento ζ\", -2.0, 2.5, 0.5, step=0.01)\n",
        "own = st.slider(\"Frecuencia natural ωₙ [rad/s]\", 0.1, 10.0, 2.0, step=0.1)\n",
        "\n",
        "# ── Validación del rango de ζ según el tipo de respuesta ────────────────\n",
        "valid = True\n",
        "if tipo == \"Subamortiguado\" and not (0 < zeta < 1):\n",
        "    st.error(\"❌ Para subamortiguado, ζ debe estar en (0,1)\")\n",
        "    valid = False\n",
        "elif tipo == \"Sobreamortiguado\" and not (zeta > 1):\n",
        "    st.error(\"❌ Para sobreamortiguado, ζ debe ser > 1\")\n",
        "    valid = False\n",
        "elif tipo == \"Crítico\" and not np.isclose(zeta, 1.0, atol=0.01):\n",
        "    st.error(\"❌ Para crítico, ζ ≈ 1\")\n",
        "    valid = False\n",
        "elif tipo == \"Inestable\" and not (zeta < 0):\n",
        "    st.error(\"❌ Para inestable, ζ debe ser < 0\")\n",
        "    valid = False\n",
        "\n",
        "if valid:\n",
        "    # ── Definición de la función de transferencia en lazo abierto ──────────\n",
        "    num = [own**2]                     # Numerador G(s) = ωₙ²\n",
        "    den = [1, 2*zeta*own, own**2]      # Denominador s² + 2ζωₙs + ωₙ²\n",
        "    sistema = signal.TransferFunction(num, den)\n",
        "\n",
        "    # ── Mostrar polos y ceros del sistema ─────────────────────────────────\n",
        "    st.subheader(\"📌 Polos y Ceros (Lazo Abierto)\")\n",
        "    st.write(f\"**Polos:** {np.round(sistema.poles, 3)}\")\n",
        "    st.write(f\"**Ceros:** {np.round(sistema.zeros, 3)}\")\n",
        "\n",
        "    # ── Cálculo de parámetros físicos y eléctricos equivalentes ────────────\n",
        "    m = 1.0                            # Masa normalizada\n",
        "    k = m * own**2                     # Constante del resorte\n",
        "    c = 2 * zeta * own * m             # Coeficiente de amortiguamiento\n",
        "    L = m                              # Inductancia equivalente\n",
        "    R = c                              # Resistencia equivalente\n",
        "    C = 1 / k                          # Capacitancia equivalente\n",
        "\n",
        "    st.subheader(\"⚙️ Parámetros Físicos\")\n",
        "    st.write(f\"m = {m:.2f} kg | c = {c:.2f} Ns/m | k = {k:.2f} N/m\")\n",
        "    st.subheader(\"🔌 Equivalente Eléctrico (R–L–C)\")\n",
        "    st.write(f\"L = {L:.2f} H | R = {R:.2f} Ω | C = {C:.3f} F\")\n",
        "\n",
        "    # ── Cálculo de las respuestas temporales ───────────────────────────────\n",
        "    t = np.linspace(0, 10, 1000)\n",
        "    _, y_imp = signal.impulse(sistema, T=t)\n",
        "    _, y_step = signal.step(sistema, T=t)\n",
        "    _, y_ramp, _ = signal.lsim(sistema, U=t, T=t)\n",
        "\n",
        "    # ── Generación de gráficos en lazo abierto ─────────────────────────────\n",
        "    fig, axs = plt.subplots(2, 2, figsize=(12, 10))\n",
        "    axs[0, 0].plot(t, y_imp);   axs[0, 0].set_title(\"Impulso\")\n",
        "    axs[0, 1].plot(t, y_step);  axs[0, 1].set_title(\"Escalón\")\n",
        "    axs[1, 0].plot(t, y_ramp);  axs[1, 0].set_title(\"Rampa\")\n",
        "    w, mag, phase = signal.bode(sistema)\n",
        "    axs[1, 1].semilogx(w, mag, label='Magnitud')\n",
        "    axs[1, 1].semilogx(w, phase, label='Fase')\n",
        "    axs[1, 1].set_title(\"Diagrama de Bode\"); axs[1, 1].legend()\n",
        "    st.pyplot(fig)\n",
        "\n",
        "    # ── Construcción del sistema en lazo cerrado ───────────────────────────\n",
        "    sistema_cerrado = signal.TransferFunction(num, np.polyadd(den, num))\n",
        "\n",
        "    st.subheader(\"🔄 Sistema en Lazo Cerrado\")\n",
        "    st.write(f\"**Polos cerrados:** {np.round(sistema_cerrado.poles, 3)}\")\n",
        "\n",
        "    # ── Respuestas temporales en lazo cerrado ──────────────────────────────\n",
        "    t_c = t\n",
        "    _, y_imp_c = signal.impulse(sistema_cerrado, T=t_c)\n",
        "    _, y_step_c = signal.step(sistema_cerrado, T=t_c)\n",
        "    _, y_ramp_c, _ = signal.lsim(sistema_cerrado, U=t_c, T=t_c)\n",
        "\n",
        "    fig2, axs2 = plt.subplots(1, 3, figsize=(18, 4))\n",
        "    axs2[0].plot(t_c, y_imp_c);  axs2[0].set_title(\"Impulso (Lazo Cerrado)\")\n",
        "    axs2[0].set_xlabel(\"Tiempo [s]\"); axs2[0].set_ylabel(\"Amplitud\")\n",
        "    axs2[1].plot(t_c, y_step_c); axs2[1].set_title(\"Escalón (Lazo Cerrado)\")\n",
        "    axs2[1].set_xlabel(\"Tiempo [s]\")\n",
        "    axs2[2].plot(t_c, y_ramp_c); axs2[2].set_title(\"Rampa (Lazo Cerrado)\")\n",
        "    axs2[2].set_xlabel(\"Tiempo [s]\")\n",
        "    st.pyplot(fig2)\n",
        "\n",
        "    # ── Cálculo de parámetros temporales para subamortiguado ───────────────\n",
        "    if 0 < zeta < 1:\n",
        "        Mp = np.exp(-zeta * np.pi / np.sqrt(1 - zeta**2)) * 100\n",
        "        Ts = 4 / (zeta * own)\n",
        "        Tr = (np.pi - np.arccos(zeta)) / (own * np.sqrt(1 - zeta**2))\n",
        "        Tp = np.pi / (own * np.sqrt(1 - zeta**2))\n",
        "        st.subheader(\"⏱️ Parámetros Temporales\")\n",
        "        st.write(f\"Mₚ = {Mp:.2f}% | Tᵣ = {Tr:.2f}s | Tₚ = {Tp:.2f}s | Tₛ = {Ts:.2f}s\")\n",
        "    else:\n",
        "        st.info(\"ℹ️ Estos parámetros no aplican para el amortiguamiento seleccionado.\")\n"
      ],
      "metadata": {
        "colab": {
          "base_uri": "https://localhost:8080/"
        },
        "id": "KSaMBQEhOCwV",
        "outputId": "e80f1fd9-e80f-49e3-c048-05770f6f0e93"
      },
      "execution_count": null,
      "outputs": [
        {
          "output_type": "stream",
          "name": "stdout",
          "text": [
            "Overwriting pages/1_🔧_Sistema_Masa_Resorte.py\n"
          ]
        }
      ]
    },
    {
      "cell_type": "markdown",
      "source": [
        "## Ejecución de la Aplicación y Exposición Pública\n",
        "\n",
        "En este bloque lanzamos la aplicación Streamlit en segundo plano y configuramos un túnel público con Cloudflared para acceder al dashboard desde cualquier lugar. Se realizan los siguientes pasos:\n",
        "\n",
        "1. **Cierre de instancias previas** de Streamlit y Cloudflared para evitar conflictos.  \n",
        "2. **Ejecución** del script principal de la aplicación en background.  \n",
        "3. **Pausa** breve para asegurar que el servidor local esté activo.  \n",
        "4. **Arranque** del túnel Cloudflared que redirige el puerto local 8501 a una URL accesible públicamente.  \n",
        "5. **Lectura** del log de Cloudflared para extraer y mostrar la URL pública resultante.\n"
      ],
      "metadata": {
        "id": "8Rsyrg2ZKCob"
      }
    },
    {
      "cell_type": "code",
      "source": [
        "# 🟢 Ejecuta la app y crea el túnel público\n",
        "\n",
        "import os\n",
        "import time\n",
        "import re\n",
        "\n",
        "# ── Cerrar procesos antiguos de Streamlit y Cloudflared ────────────────\n",
        "!pkill -f streamlit                 # Finaliza cualquier instancia previa de Streamlit\n",
        "!pkill -f cloudflared               # Finaliza cualquier túnel anterior de Cloudflared\n",
        "\n",
        "# ── Iniciar la aplicación Streamlit en segundo plano ──────────────────\n",
        "!streamlit run 0_📊_Simulacion_Sistemas.py &> /dev/null &\n",
        "\n",
        "# ── Esperar unos segundos para que Streamlit esté en línea ────────────\n",
        "time.sleep(3)\n",
        "\n",
        "# ── Iniciar el túnel con Cloudflared ──────────────────────────────────\n",
        "!cloudflared tunnel --url http://localhost:8501 > cloudflared.log 2>&1 &\n",
        "\n",
        "# ── Dar tiempo para que Cloudflared genere la URL ─────────────────────\n",
        "time.sleep(8)\n",
        "\n",
        "# ── Leer el log para extraer la URL pública del túnel ──────────────────\n",
        "url = None\n",
        "with open(\"cloudflared.log\") as file:\n",
        "    for line in file:\n",
        "        match = re.search(r\"https://[a-z0-9-]+\\.trycloudflare\\.com\", line)\n",
        "        if match:\n",
        "            url = match.group(0)\n",
        "            break\n",
        "\n",
        "# ── Mostrar resultado al usuario ───────────────────────────────────────\n",
        "if url:\n",
        "    print(\"✅ Tu dashboard está disponible en:\\n\", url)\n",
        "else:\n",
        "    print(\"⚠️ No se pudo obtener la URL. Revisa 'cloudflared.log' para más detalles.\")\n"
      ],
      "metadata": {
        "colab": {
          "base_uri": "https://localhost:8080/"
        },
        "id": "Ic6Eop-u9EjC",
        "outputId": "d28cbf8c-691e-4198-84ef-6387d85cf61f"
      },
      "execution_count": null,
      "outputs": [
        {
          "output_type": "stream",
          "name": "stdout",
          "text": [
            "✅ Tu dashboard está disponible en:\n",
            " https://closing-wear-movers-convention.trycloudflare.com\n"
          ]
        }
      ]
    },
    {
      "cell_type": "markdown",
      "source": [
        "## Conclusiones\n",
        "\n",
        "\n",
        "- **Se comprendió en profundidad** el comportamiento de los sistemas de segundo orden, tanto en su forma mecánica (masa–resorte–amortiguador) como en su equivalente eléctrico (circuito R–L–C).  \n",
        "\n",
        "- **Se exploró interactivamente** los diferentes regímenes de amortiguamiento (subamortiguado, críticamente amortiguado, sobreamortiguado e inestable) y observar cómo el factor ζ y la frecuencia natural ωₙ afectan la forma de la respuesta temporal y la posición de polos y ceros.  \n",
        "- **Se visualizó de manera clara** los diagramas de Bode, así como las respuestas al impulso, al escalón y a la rampa, tanto en lazo abierto como en lazo cerrado, reforzando el entendimiento de conceptos clave como la ganancia de pico, el ancho de banda y la estabilidad.  \n",
        "- **Se calcularon parámetros temporales** —tiempo de subida, sobreimpulso, tiempo al pico y tiempo de establecimiento—, y relacionarlos cuantitativamente con ζ y ωₙ para comprender cómo ajustar un sistema real según requisitos de rendimiento.  \n",
        "  \n",
        "\n",
        "\n"
      ],
      "metadata": {
        "id": "03Xc5aQ2K4hy"
      }
    }
  ]
}