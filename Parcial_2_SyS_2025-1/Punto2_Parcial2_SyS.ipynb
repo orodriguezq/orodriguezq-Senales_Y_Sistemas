{
  "nbformat": 4,
  "nbformat_minor": 0,
  "metadata": {
    "colab": {
      "provenance": [],
      "authorship_tag": "ABX9TyO2mOdBCaGBIYQuVzSABE3F",
      "include_colab_link": true
    },
    "kernelspec": {
      "name": "python3",
      "display_name": "Python 3"
    },
    "language_info": {
      "name": "python"
    }
  },
  "cells": [
    {
      "cell_type": "markdown",
      "metadata": {
        "id": "view-in-github",
        "colab_type": "text"
      },
      "source": [
        "<a href=\"https://colab.research.google.com/github/orodriguezq/orodriguezq-Senales_Y_Sistemas/blob/main/Parcial_2_SyS_2025-1/Punto2_Parcial2_SyS.ipynb\" target=\"_parent\"><img src=\"https://colab.research.google.com/assets/colab-badge.svg\" alt=\"Open In Colab\"/></a>"
      ]
    },
    {
      "cell_type": "markdown",
      "source": [
        "# 🎙️ Dashboard Interactivo de Modulación y Demodulación SSB-AM\n",
        "\n",
        "**Punto 2 Parcial 2 SyS**  \n",
        "**Omar Andrés Rodriguez Quiceno**  \n",
        "\n",
        "---\n",
        "\n",
        "En este notebook diseñamos y analizamos paso a paso el proceso de modulación y demodulación en amplitud de banda lateral única (SSB-AM), tanto en el dominio del tiempo como en el de la frecuencia. A través de una aplicación interactiva con **Streamlit**, el usuario podrá:\n",
        "\n",
        "- Seleccionar la señal mensaje:\n",
        "  1. Pulso rectangular  \n",
        "  2. Segmento de 5 segundos de una canción  \n",
        "- Visualizar cada etapa del sistema SSB-AM:\n",
        "  - Señales en el tiempo (mensaje, portadora, modulada, filtrada y demodulada)  \n",
        "  - Espectros correspondientes mediante transformada de Fourier  \n",
        "- Ajustar parámetros clave:\n",
        "  - Frecuencia de la portadora  \n",
        "  - Ancho de banda del filtro (IIR) para selección de banda lateral  \n",
        "- Inspeccionar características de los filtros digitales recursivos:\n",
        "  - Diagrama de Bode  \n",
        "  - Plano de polos y ceros  \n",
        "- Comprender la equivalencia entre teoría y simulación, gracias a gráficos claros y descripciones concretas de cada bloque funcional.\n",
        "\n"
      ],
      "metadata": {
        "id": "Em-v_0mRmb6y"
      }
    },
    {
      "cell_type": "markdown",
      "source": [
        "## Instalación de Dependencias y Configuración Inicial\n",
        "\n",
        "En este bloque instalamos las librerías necesarias para el procesamiento de señales y la construcción del dashboard, y preparamos la herramienta **Cloudflared** para exponer la aplicación:\n",
        "\n",
        "1. Instalamos **Streamlit** para el dashboard interactivo y **Librosa** para la carga y análisis de audio.  \n",
        "2. Descargamos el binario oficial de **Cloudflared**, lo hacemos ejecutable y lo movemos a `/usr/local/bin` para poder crear un túnel público más adelante.\n"
      ],
      "metadata": {
        "id": "pSI1lUsGQUlU"
      }
    },
    {
      "cell_type": "code",
      "source": [
        "# ── Instalación de librerías para la aplicación ──────────────────────────\n",
        "!pip install streamlit librosa --quiet\n",
        "                                     # Streamlit: interfaz web\n",
        "                                     # Librosa: carga y análisis de audio\n",
        "\n",
        "# ── Descarga y configuración de Cloudflared ─────────────────────────────\n",
        "!wget -q https://github.com/cloudflare/cloudflared/releases/latest/download/cloudflared-linux-amd64 -O cloudflared\n",
        "                                     # Descarga la última versión del binario\n",
        "!chmod +x cloudflared                # Asigna permiso de ejecución al archivo\n",
        "!mv cloudflared /usr/local/bin/cloudflared\n",
        "                                     # Mueve el binario a una carpeta del PATH\n"
      ],
      "metadata": {
        "id": "qs24lDVtk48t"
      },
      "execution_count": 25,
      "outputs": []
    },
    {
      "cell_type": "markdown",
      "source": [
        "## Script Principal: `1_📊_SSB_AM_Dashboard.py`\n",
        "\n",
        "En este archivo definimos la aplicación Streamlit para visualizar el proceso de modulación y demodulación SSB-AM. El usuario podrá:\n",
        "\n",
        "1. **Seleccionar la señal mensaje**  \n",
        "   - Pulso rectangular de duración configurable  \n",
        "   - Fragmento de 5 s de un archivo .wav  \n",
        "2. **Ajustar parámetros clave** en la barra lateral:  \n",
        "   - Frecuencia de la portadora \\(f_c\\)  \n",
        "   - Frecuencia de corte del filtro pasabajo IIR  \n",
        "3. **Explorar cada etapa del sistema** mediante secciones desplegables:  \n",
        "   - Forma de la señal mensaje en el tiempo  \n",
        "   - Señal SSB-AM modulada  \n",
        "   - Señal demodulada y filtrada  \n",
        "   - Análisis del filtro digital (diagrama de Bode y plano z de polos y ceros)  \n",
        "\n",
        "Cada sección incluye gráficos y una breve descripción que explica el propósito y la interpretación de los resultados, asegurando una comprensión clara del proceso SSB-AM.\n"
      ],
      "metadata": {
        "id": "K-iz-BHtQk1p"
      }
    },
    {
      "cell_type": "code",
      "source": [
        "%%writefile 1_📊_SSB_AM_Dashboard.py\n",
        "import streamlit as st\n",
        "import numpy as np\n",
        "import matplotlib.pyplot as plt\n",
        "import librosa\n",
        "from scipy.signal import hilbert, butter, lfilter, freqz\n",
        "\n",
        "# ── Auxiliares ────────────────────────────────────────────\n",
        "def rectangular_pulse(duration=1.0, fs=1000):\n",
        "    t = np.linspace(0, duration, int(fs*duration), endpoint=False)\n",
        "    return t, np.ones_like(t)\n",
        "\n",
        "def load_audio_segment(path, duration=5):\n",
        "    y, sr = librosa.load(path, duration=duration)\n",
        "    return y, sr\n",
        "\n",
        "def ssb_modulate(m, fs, fc):\n",
        "    t = np.arange(len(m)) / fs\n",
        "    mh = np.imag(hilbert(m))\n",
        "    return t, m * np.cos(2*np.pi*fc*t) - mh * np.sin(2*np.pi*fc*t)\n",
        "\n",
        "def butter_lowpass(cutoff, fs, order=4):\n",
        "    nyq = 0.5 * fs\n",
        "    wn  = cutoff / nyq\n",
        "    return butter(order, wn, btype='low', analog=False)\n",
        "\n",
        "def apply_filter(x, b, a):\n",
        "    return lfilter(b, a, x)\n",
        "\n",
        "# ── Página ─────────────────────────────────────────────────\n",
        "st.set_page_config(\"SSB-AM Dashboard\", layout=\"wide\")\n",
        "st.sidebar.header(\"⚙️ Parámetros\")\n",
        "\n",
        "# Parámetros de usuario\n",
        "modo   = st.sidebar.radio(\"Señal mensaje\", [\"Pulso rectangular\", \"Fragmento .wav\"])\n",
        "fs     = 1000\n",
        "fc     = st.sidebar.slider(\"Portadora fc [Hz]\", 50, 5000, 1000)\n",
        "cutoff = st.sidebar.slider(\"Corte LP [Hz]\", 10, fs//2, 200)\n",
        "\n",
        "# ── Carga de señal ─────────────────────────────────────────\n",
        "if modo == \"Pulso rectangular\":\n",
        "    t, msg = rectangular_pulse(fs=fs)\n",
        "else:\n",
        "    wav = st.sidebar.file_uploader(\"Sube un .wav\", type=[\"wav\"])\n",
        "    if not wav:\n",
        "        st.sidebar.warning(\"Carga un archivo para continuar\")\n",
        "        st.stop()\n",
        "    msg, fs = load_audio_segment(wav)\n",
        "    t = np.arange(len(msg)) / fs\n",
        "    st.audio(wav)\n",
        "\n",
        "# ── Encabezado ─────────────────────────────────────────────\n",
        "st.title(\"📻 Visualización SSB-AM\")\n",
        "st.markdown(\"Selecciona los parámetros en la barra lateral y explora cada etapa:\")\n",
        "\n",
        "# ── 1) Señal Mensaje ───────────────────────────────────────\n",
        "with st.expander(\"📈 1. Señal Mensaje\", expanded=True):\n",
        "    st.line_chart(msg)\n",
        "    st.markdown(\"\"\"\n",
        "    **📝 Descripción:** Forma de onda de la señal original.\n",
        "    **🔎 Interpretación:** Es la información base que queremos transmitir.\n",
        "    \"\"\")\n",
        "\n",
        "# ── 2) Señal SSB-Modulada ───────────────────────────────────\n",
        "t_ssb, ssb = ssb_modulate(msg, fs, fc)\n",
        "with st.expander(\"📡 2. Señal Modulada (SSB-AM)\"):\n",
        "    fig, ax = plt.subplots(figsize=(8,2))\n",
        "    ax.plot(t_ssb, ssb)\n",
        "    ax.set(xlabel=\"t [s]\", ylabel=\"s(t)\")\n",
        "    ax.grid()\n",
        "    st.pyplot(fig)\n",
        "    st.markdown(\"\"\"\n",
        "    **📝 Descripción:** Señal modulada en banda lateral única.\n",
        "    **🔎 Interpretación:** Se elimina una banda lateral para reducir el ancho de banda.\n",
        "    \"\"\")\n",
        "\n",
        "# ── 3) Demodulación + Filtrado ─────────────────────────────\n",
        "dem   = ssb * 2 * np.cos(2*np.pi*fc*t_ssb)\n",
        "b, a  = butter_lowpass(cutoff, fs)\n",
        "demf  = apply_filter(dem, b, a)\n",
        "with st.expander(\"🔧 3. Señal Demodulada y Filtrada\"):\n",
        "    fig, ax = plt.subplots(figsize=(8,2))\n",
        "    ax.plot(t_ssb, demf)\n",
        "    ax.set(xlabel=\"t [s]\", ylabel=\"m̂(t)\")\n",
        "    ax.grid()\n",
        "    st.pyplot(fig)\n",
        "    st.markdown(\"\"\"\n",
        "    **📝 Descripción:** Envolvente recuperada tras demodulación y filtro IIR pasabajo.\n",
        "    **🔎 Interpretación:** El filtro elimina componentes de alta frecuencia no deseadas.\n",
        "    \"\"\")\n",
        "\n",
        "# ── 4) Análisis del filtro digital ─────────────────────────\n",
        "with st.expander(\"📉 4. Análisis del Filtro Digital\"):\n",
        "    col1, col2 = st.columns(2)\n",
        "    with col1:\n",
        "        w, h = freqz(b, a, fs=fs)\n",
        "        fig, ax = plt.subplots(figsize=(4,3))\n",
        "        ax.semilogx(w, 20*np.log10(np.abs(h)))\n",
        "        ax.set(title=\"Bode Magnitud\", xlabel=\"Hz\", ylabel=\"dB\")\n",
        "        ax.grid()\n",
        "        st.pyplot(fig)\n",
        "        st.markdown(\"\"\"\n",
        "        **📝 Descripción:** Diagrama de Bode del filtro digital IIR.\n",
        "        **🔎 Interpretación:** Muestra atenuación o ganancia según la frecuencia.\n",
        "        \"\"\")\n",
        "    with col2:\n",
        "        zeros_d = np.roots(b)\n",
        "        poles_d = np.roots(a)\n",
        "        fig, ax = plt.subplots(figsize=(4,4))\n",
        "        theta = np.linspace(0,2*np.pi,200)\n",
        "        ax.plot(np.cos(theta), np.sin(theta), 'k--')\n",
        "        ax.scatter(np.real(zeros_d), np.imag(zeros_d), facecolors='none', edgecolors='b', label='Ceros')\n",
        "        ax.scatter(np.real(poles_d), np.imag(poles_d), marker='x', color='r', label='Polos')\n",
        "        ax.set(title=\"Plano Z\", xlabel=\"Re(z)\", ylabel=\"Im(z)\")\n",
        "        ax.axhline(0); ax.axvline(0)\n",
        "        ax.legend(); ax.grid()\n",
        "        st.pyplot(fig)\n",
        "        st.markdown(\"\"\"\n",
        "        **📝 Descripción:** Ubicación de polos (✖) y ceros (○) en el plano z.\n",
        "        **🔎 Interpretación:** Polos dentro del círculo unitario garantizan estabilidad.\n",
        "        \"\"\")\n"
      ],
      "metadata": {
        "colab": {
          "base_uri": "https://localhost:8080/"
        },
        "id": "0rLs2J9Ck_JJ",
        "outputId": "b637d2fe-91b8-4120-a6d1-be2b8760317d"
      },
      "execution_count": 28,
      "outputs": [
        {
          "output_type": "stream",
          "name": "stdout",
          "text": [
            "Overwriting 1_📊_SSB_AM_Dashboard.py\n"
          ]
        }
      ]
    },
    {
      "cell_type": "markdown",
      "source": [
        "## Ejecución de la Aplicación y Exposición Pública\n",
        "\n",
        "En este bloque ponemos en marcha el dashboard de SSB-AM y creamos un túnel público con Cloudflared para acceder desde cualquier dispositivo:\n",
        "\n",
        "1. **Cierre de procesos previos** de Streamlit y Cloudflared para evitar conflictos.  \n",
        "2. **Ejecución** del script principal en segundo plano, omitiendo los logs en pantalla.  \n",
        "3. **Pausa** breve para asegurar que el servidor local de Streamlit esté activo.  \n",
        "4. **Arranque** del túnel con Cloudflared apuntando al puerto 8501.  \n",
        "5. **Lectura** del archivo de log para extraer y mostrar la URL pública generada.  \n"
      ],
      "metadata": {
        "id": "2lXrnY60RLeA"
      }
    },
    {
      "cell_type": "code",
      "source": [
        "# 🟢 Ejecuta la app y crea el túnel público\n",
        "\n",
        "import os, time, re\n",
        "\n",
        "# 1) Cerrar instancias antiguas de Streamlit y Cloudflared\n",
        "!pkill -f streamlit               # Finaliza cualquier servidor Streamlit en ejecución\n",
        "!pkill -f cloudflared             # Finaliza túneles previos de Cloudflared\n",
        "\n",
        "# 2) Iniciar la app Streamlit en background (sin mostrar logs)\n",
        "!streamlit run 1_📊_SSB_AM_Dashboard.py &> /dev/null &\n",
        "\n",
        "# 3) Esperar unos segundos para que Streamlit arranque correctamente\n",
        "time.sleep(3)\n",
        "\n",
        "# 4) Lanzar el túnel con el binario oficial de Cloudflared\n",
        "!cloudflared tunnel --url http://localhost:8501 > cloudflared.log 2>&1 &\n",
        "\n",
        "# 5) Dar tiempo para que Cloudflared genere la URL pública\n",
        "time.sleep(8)\n",
        "\n",
        "# 6) Leer el log y extraer la URL\n",
        "url = None\n",
        "with open(\"cloudflared.log\") as f:\n",
        "    for line in f:\n",
        "        m = re.search(r\"https://[a-z0-9-]+\\.trycloudflare\\.com\", line)\n",
        "        if m:\n",
        "            url = m.group(0)\n",
        "            break\n",
        "\n",
        "# 7) Mostrar el resultado al usuario\n",
        "if url:\n",
        "    print(\"✅ Tu dashboard está disponible aquí:\\n\", url)\n",
        "else:\n",
        "    print(\"⚠️ No se pudo obtener la URL. Verifica 'cloudflared.log' para más detalles.\")\n"
      ],
      "metadata": {
        "colab": {
          "base_uri": "https://localhost:8080/"
        },
        "id": "rN7pkMeS0ZqM",
        "outputId": "ccb5b6f7-0192-4fce-8afe-c8557e036dfc"
      },
      "execution_count": 29,
      "outputs": [
        {
          "output_type": "stream",
          "name": "stdout",
          "text": [
            "✅ Tu dashboard está disponible aquí:\n",
            " https://backed-relief-operated-script.trycloudflare.com\n"
          ]
        }
      ]
    },
    {
      "cell_type": "markdown",
      "source": [
        "## Conclusiones\n",
        "\n",
        "- A través de este ejercicio profundizamos en el modelo matemático de la modulación SSB-AM, observando cómo la combinación de la señal original y su transformada de Hilbert genera la eliminación de una banda lateral tanto en el dominio del tiempo como en el de la frecuencia.\n",
        "\n",
        "- El dashboard permite explorar dinámicamente el efecto de cambiar la frecuencia de la portadora y la frecuencia de corte del filtro pasabajo IIR. Esto facilita la intuición sobre cómo esos parámetros afectan la forma de onda modulada y la calidad de la señal demodulada.\n",
        "\n",
        "- Implementamos un filtro Butterworth de orden configurable, y comprobamos su respuesta mediante diagramas de Bode y el plano Z de polos y ceros. De esta manera, reforzamos la comprensión de criterios de estabilidad y selectividad en filtros IIR.\n"
      ],
      "metadata": {
        "id": "VSqzwtOmRf1o"
      }
    }
  ]
}